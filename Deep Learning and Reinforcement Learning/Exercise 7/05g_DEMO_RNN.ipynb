{
 "cells": [
  {
   "cell_type": "markdown",
   "metadata": {
    "run_control": {
     "marked": true
    }
   },
   "source": [
    "# Machine Learning Foundation\n",
    "\n",
    "## Course 5, Part g: RNN DEMO"
   ]
  },
  {
   "cell_type": "markdown",
   "metadata": {},
   "source": [
    "## Using RNNs to classify sentiment on IMDB data\n",
    "For this exercise, we will train a \"vanilla\" RNN to predict the sentiment on IMDB reviews.  Our data consists of 25000 training sequences and 25000 test sequences.  The outcome is binary (positive/negative) and both outcomes are equally represented in both the training and the test set.\n",
    "\n",
    "Keras provides a convenient interface to load the data and immediately encode the words into integers (based on the most common words).  This will save us a lot of the drudgery that is usually involved when working with raw text.\n",
    "\n",
    "We will walk through the preparation of the data and the building of an RNN model.  Then it will be your turn to build your own models (and prepare the data how you see fit)."
   ]
  },
  {
   "cell_type": "code",
   "execution_count": 39,
   "metadata": {},
   "outputs": [],
   "source": [
    "#from tensorflow import keras\n",
    "#from tensorflow.keras.preprocessing import sequence\n",
    "#from tensorflow.keras.models import Sequential\n",
    "#from tensorflow.keras.layers import Dense, Embedding\n",
    "#from tensorflow.keras.layers import SimpleRNN\n",
    "#from tensorflow.keras.datasets import imdb\n",
    "#from tensorflow.keras import initializers\n",
    "import keras\n",
    "from keras.preprocessing import sequence\n",
    "from keras.models import Sequential\n",
    "from keras.layers import Dense, Embedding\n",
    "from keras.layers import SimpleRNN\n",
    "from keras.datasets import imdb\n",
    "from keras import initializers\n",
    "from tensorflow.keras.optimizers import Adam, SGD, RMSprop\n"
   ]
  },
  {
   "cell_type": "code",
   "execution_count": 40,
   "metadata": {},
   "outputs": [],
   "source": [
    "max_features = 20000  # This is used in loading the data, picks the most common (max_features) words\n",
    "maxlen = 30  # maximum length of a sequence - truncate after this\n",
    "batch_size = 32"
   ]
  },
  {
   "cell_type": "code",
   "execution_count": 41,
   "metadata": {},
   "outputs": [
    {
     "name": "stdout",
     "output_type": "stream",
     "text": [
      "25000 train sequences\n",
      "25000 test sequences\n"
     ]
    }
   ],
   "source": [
    "## Load in the data.  The function automatically tokenizes the text into distinct integers\n",
    "(x_train, y_train), (x_test, y_test) = imdb.load_data(num_words=max_features)\n",
    "print(len(x_train), 'train sequences')\n",
    "print(len(x_test), 'test sequences')"
   ]
  },
  {
   "cell_type": "code",
   "execution_count": 42,
   "metadata": {},
   "outputs": [
    {
     "name": "stdout",
     "output_type": "stream",
     "text": [
      "x_train shape: (25000, 30)\n",
      "x_test shape: (25000, 30)\n"
     ]
    }
   ],
   "source": [
    "# This pads (or truncates) the sequences so that they are of the maximum length\n",
    "x_train = sequence.pad_sequences(x_train, maxlen=maxlen)\n",
    "x_test = sequence.pad_sequences(x_test, maxlen=maxlen)\n",
    "print('x_train shape:', x_train.shape)\n",
    "print('x_test shape:', x_test.shape)"
   ]
  },
  {
   "cell_type": "code",
   "execution_count": 43,
   "metadata": {},
   "outputs": [
    {
     "data": {
      "text/plain": "array([  219,   141,    35,   221,   956,    54,    13,    16,    11,\n        2714,    61,   322,   423,    12,    38,    76,    59,  1803,\n          72,     8, 10508,    23,     5,   967,    12,    38,    85,\n          62,   358,    99])"
     },
     "execution_count": 43,
     "metadata": {},
     "output_type": "execute_result"
    }
   ],
   "source": [
    "x_train[123,:]  #Here's what an example sequence looks like"
   ]
  },
  {
   "cell_type": "markdown",
   "metadata": {},
   "source": [
    "## Keras layers for (Vanilla) RNNs\n",
    "\n",
    "In this exercise, we will not use pre-trained word vectors.  Rather we will learn an embedding as part of the Neural Network.  This is represented by the Embedding Layer below.\n",
    "\n",
    "### Embedding Layer\n",
    "`keras.layers.embeddings.Embedding(input_dim, output_dim, embeddings_initializer='uniform', embeddings_regularizer=None, activity_regularizer=None, embeddings_constraint=None, mask_zero=False, input_length=None)`\n",
    "\n",
    "- This layer maps each integer into a distinct (dense) word vector of length `output_dim`.\n",
    "- Can think of this as learning a word vector embedding \"on the fly\" rather than using an existing mapping (like GloVe)\n",
    "- The `input_dim` should be the size of the vocabulary.\n",
    "- The `input_length` specifies the length of the sequences that the network expects.\n",
    "\n",
    "### SimpleRNN Layer\n",
    "`keras.layers.recurrent.SimpleRNN(units, activation='tanh', use_bias=True, kernel_initializer='glorot_uniform', recurrent_initializer='orthogonal', bias_initializer='zeros', kernel_regularizer=None, recurrent_regularizer=None, bias_regularizer=None, activity_regularizer=None, kernel_constraint=None, recurrent_constraint=None, bias_constraint=None, dropout=0.0, recurrent_dropout=0.0)`\n",
    "\n",
    "- This is the basic RNN, where the output is also fed back as the \"hidden state\" to the next iteration.\n",
    "- The parameter `units` gives the dimensionality of the output (and therefore the hidden state).  Note that typically there will be another layer after the RNN mapping the (RNN) output to the network output.  So we should think of this value as the desired dimensionality of the hidden state and not necessarily the desired output of the network.\n",
    "- Recall that there are two sets of weights, one for the \"recurrent\" phase and the other for the \"kernel\" phase.  These can be configured separately in terms of their initialization, regularization, etc.\n",
    "\n",
    "\n",
    "\n",
    "\n"
   ]
  },
  {
   "cell_type": "code",
   "execution_count": 44,
   "metadata": {},
   "outputs": [],
   "source": [
    "## Let's build a RNN\n",
    "\n",
    "rnn_hidden_dim = 5\n",
    "word_embedding_dim = 50\n",
    "model_rnn = Sequential()\n",
    "model_rnn.add(Embedding(max_features, word_embedding_dim))  #This layer takes each integer in the sequence and embeds it in a 50-dimensional vector\n",
    "model_rnn.add(SimpleRNN(rnn_hidden_dim,\n",
    "                    kernel_initializer=initializers.RandomNormal(stddev=0.001),\n",
    "                    recurrent_initializer=initializers.Identity(gain=1.0),\n",
    "                    activation='relu',\n",
    "                    input_shape=x_train.shape[1:]))\n",
    "\n",
    "model_rnn.add(Dense(1, activation='sigmoid'))"
   ]
  },
  {
   "cell_type": "code",
   "execution_count": 45,
   "metadata": {},
   "outputs": [
    {
     "name": "stdout",
     "output_type": "stream",
     "text": [
      "Model: \"sequential_7\"\n",
      "_________________________________________________________________\n",
      " Layer (type)                Output Shape              Param #   \n",
      "=================================================================\n",
      " embedding_9 (Embedding)     (None, None, 50)          1000000   \n",
      "                                                                 \n",
      " simple_rnn_7 (SimpleRNN)    (None, 5)                 280       \n",
      "                                                                 \n",
      " dense_7 (Dense)             (None, 1)                 6         \n",
      "                                                                 \n",
      "=================================================================\n",
      "Total params: 1,000,286\n",
      "Trainable params: 1,000,286\n",
      "Non-trainable params: 0\n",
      "_________________________________________________________________\n"
     ]
    }
   ],
   "source": [
    "## Note that most of the parameters come from the embedding layer\n",
    "model_rnn.summary()"
   ]
  },
  {
   "cell_type": "code",
   "execution_count": 46,
   "metadata": {},
   "outputs": [],
   "source": [
    "rmsprop = RMSprop(learning_rate = .0001)\n",
    "\n",
    "model_rnn.compile(loss='binary_crossentropy',\n",
    "              optimizer=rmsprop,\n",
    "              metrics=['accuracy'])"
   ]
  },
  {
   "cell_type": "code",
   "execution_count": 47,
   "metadata": {},
   "outputs": [
    {
     "name": "stdout",
     "output_type": "stream",
     "text": [
      "Epoch 1/10\n",
      "782/782 [==============================] - 8s 10ms/step - loss: 0.6752 - accuracy: 0.5388 - val_loss: 0.6433 - val_accuracy: 0.6329\n",
      "Epoch 2/10\n",
      "782/782 [==============================] - 7s 9ms/step - loss: 0.6216 - accuracy: 0.6995 - val_loss: 0.6152 - val_accuracy: 0.7284\n",
      "Epoch 3/10\n",
      "782/782 [==============================] - 7s 9ms/step - loss: 0.5935 - accuracy: 0.7457 - val_loss: 0.5971 - val_accuracy: 0.7355\n",
      "Epoch 4/10\n",
      "782/782 [==============================] - 7s 9ms/step - loss: 0.5721 - accuracy: 0.7661 - val_loss: 0.5838 - val_accuracy: 0.7417\n",
      "Epoch 5/10\n",
      "782/782 [==============================] - 7s 9ms/step - loss: 0.5532 - accuracy: 0.7794 - val_loss: 0.5689 - val_accuracy: 0.7531\n",
      "Epoch 6/10\n",
      "782/782 [==============================] - 7s 10ms/step - loss: 0.5368 - accuracy: 0.7890 - val_loss: 0.5578 - val_accuracy: 0.7539\n",
      "Epoch 7/10\n",
      "782/782 [==============================] - 7s 9ms/step - loss: 0.5220 - accuracy: 0.7971 - val_loss: 0.5458 - val_accuracy: 0.7641\n",
      "Epoch 8/10\n",
      "782/782 [==============================] - 7s 9ms/step - loss: 0.5080 - accuracy: 0.8051 - val_loss: 0.5390 - val_accuracy: 0.7622\n",
      "Epoch 9/10\n",
      "782/782 [==============================] - 6s 8ms/step - loss: 0.4951 - accuracy: 0.8096 - val_loss: 0.5284 - val_accuracy: 0.7700\n",
      "Epoch 10/10\n",
      "782/782 [==============================] - 7s 9ms/step - loss: 0.4837 - accuracy: 0.8161 - val_loss: 0.5280 - val_accuracy: 0.7648\n"
     ]
    },
    {
     "data": {
      "text/plain": "<keras.callbacks.History at 0x11436419910>"
     },
     "execution_count": 47,
     "metadata": {},
     "output_type": "execute_result"
    }
   ],
   "source": [
    "model_rnn.fit(x_train, y_train,\n",
    "          batch_size=batch_size,\n",
    "          epochs=10,\n",
    "          validation_data=(x_test, y_test))"
   ]
  },
  {
   "cell_type": "code",
   "execution_count": 48,
   "metadata": {},
   "outputs": [
    {
     "name": "stdout",
     "output_type": "stream",
     "text": [
      "782/782 [==============================] - 1s 2ms/step - loss: 0.5280 - accuracy: 0.7648\n",
      "Test score: 0.5279865264892578\n",
      "Test accuracy: 0.7648000121116638\n"
     ]
    }
   ],
   "source": [
    "score, acc = model_rnn.evaluate(x_test, y_test,\n",
    "                            batch_size=batch_size)\n",
    "print('Test score:', score)\n",
    "print('Test accuracy:', acc)"
   ]
  },
  {
   "cell_type": "markdown",
   "metadata": {},
   "source": [
    "## Exercise\n",
    "\n",
    "In this exercise, we will illustrate:\n",
    "- Preparing the data to use sequences of length 80 rather than length 30.  Does it improve the performance?\n",
    "- Trying different values of the \"max_features\".  Does this  improve the performance?\n",
    "- Trying smaller and larger sizes of the RNN hidden dimension.  How does it affect the model performance?  How does it affect the run time?"
   ]
  },
  {
   "cell_type": "code",
   "execution_count": 49,
   "metadata": {},
   "outputs": [],
   "source": [
    "max_features = 20000  # This is used in loading the data, picks the most common (max_features) words\n",
    "maxlen = 80  # maximum length of a sequence - truncate after this\n",
    "\n",
    "(x_train, y_train), (x_test, y_test) = imdb.load_data(num_words=max_features)\n",
    "\n",
    "x_train = sequence.pad_sequences(x_train, maxlen=maxlen)\n",
    "x_test = sequence.pad_sequences(x_test, maxlen=maxlen)"
   ]
  },
  {
   "cell_type": "code",
   "execution_count": 50,
   "outputs": [
    {
     "data": {
      "text/plain": "array([[   15,   256,     4, ...,    19,   178,    32],\n       [  125,    68,     2, ...,    16,   145,    95],\n       [  645,   662,     8, ...,     7,   129,   113],\n       ...,\n       [  529,   443, 17793, ...,     4,  3586,     2],\n       [  286,  1814,    23, ...,    12,     9,    23],\n       [   97,    90,    35, ...,   204,   131,     9]])"
     },
     "execution_count": 50,
     "metadata": {},
     "output_type": "execute_result"
    }
   ],
   "source": [
    "x_train"
   ],
   "metadata": {
    "collapsed": false,
    "pycharm": {
     "name": "#%%\n"
    }
   }
  },
  {
   "cell_type": "code",
   "execution_count": 51,
   "metadata": {},
   "outputs": [],
   "source": [
    "rnn_hidden_dim = 5\n",
    "word_embedding_dim = 50\n",
    "model_rnn = Sequential()\n",
    "model_rnn.add(Embedding(max_features, word_embedding_dim))  #This layer takes each integer in the sequence\n",
    "model_rnn.add(SimpleRNN(rnn_hidden_dim,\n",
    "                    kernel_initializer=initializers.RandomNormal(stddev=0.001),\n",
    "                    recurrent_initializer=initializers.Identity(gain=1.0),\n",
    "                    activation='relu',\n",
    "                    input_shape=x_train.shape[1:]))\n",
    "\n",
    "model_rnn.add(Dense(1, activation='sigmoid'))"
   ]
  },
  {
   "cell_type": "code",
   "execution_count": 52,
   "metadata": {},
   "outputs": [],
   "source": [
    "rmsprop = RMSprop(learning_rate = .0001)\n",
    "\n",
    "model_rnn.compile(loss='binary_crossentropy',\n",
    "              optimizer=rmsprop,\n",
    "              metrics=['accuracy'])"
   ]
  },
  {
   "cell_type": "code",
   "execution_count": 53,
   "metadata": {},
   "outputs": [
    {
     "name": "stdout",
     "output_type": "stream",
     "text": [
      "Epoch 1/10\n",
      "782/782 [==============================] - 14s 17ms/step - loss: 0.5986 - accuracy: 0.6676 - val_loss: 0.5105 - val_accuracy: 0.7456\n",
      "Epoch 2/10\n",
      "782/782 [==============================] - 13s 17ms/step - loss: 0.4480 - accuracy: 0.7928 - val_loss: 0.4501 - val_accuracy: 0.7880\n",
      "Epoch 3/10\n",
      "782/782 [==============================] - 13s 16ms/step - loss: 0.3833 - accuracy: 0.8306 - val_loss: 0.4137 - val_accuracy: 0.8080\n",
      "Epoch 4/10\n",
      "782/782 [==============================] - 13s 17ms/step - loss: 0.3415 - accuracy: 0.8524 - val_loss: 0.3946 - val_accuracy: 0.8186\n",
      "Epoch 5/10\n",
      "782/782 [==============================] - 13s 16ms/step - loss: 0.3137 - accuracy: 0.8658 - val_loss: 0.3921 - val_accuracy: 0.8240\n",
      "Epoch 6/10\n",
      "782/782 [==============================] - 13s 16ms/step - loss: 0.2935 - accuracy: 0.8776 - val_loss: 0.3740 - val_accuracy: 0.8323\n",
      "Epoch 7/10\n",
      "782/782 [==============================] - 13s 16ms/step - loss: 0.2781 - accuracy: 0.8851 - val_loss: 0.3681 - val_accuracy: 0.8375\n",
      "Epoch 8/10\n",
      "782/782 [==============================] - 13s 16ms/step - loss: 0.2661 - accuracy: 0.8915 - val_loss: 0.3693 - val_accuracy: 0.8373\n",
      "Epoch 9/10\n",
      "782/782 [==============================] - 13s 16ms/step - loss: 0.2566 - accuracy: 0.8956 - val_loss: 0.3656 - val_accuracy: 0.8405\n",
      "Epoch 10/10\n",
      "782/782 [==============================] - 13s 16ms/step - loss: 0.2487 - accuracy: 0.8996 - val_loss: 0.3662 - val_accuracy: 0.8417\n"
     ]
    },
    {
     "data": {
      "text/plain": "<keras.callbacks.History at 0x11436419af0>"
     },
     "execution_count": 53,
     "metadata": {},
     "output_type": "execute_result"
    }
   ],
   "source": [
    "model_rnn.fit(x_train, y_train,\n",
    "          batch_size=batch_size,\n",
    "          epochs=10,\n",
    "          validation_data=(x_test, y_test))"
   ]
  },
  {
   "cell_type": "code",
   "execution_count": 54,
   "metadata": {},
   "outputs": [],
   "source": [
    "max_features = 5000  # This is used in loading the data, picks the most common (max_features) words\n",
    "maxlen = 100  # maximum length of a sequence - truncate after this\n",
    "\n",
    "(x_train, y_train), (x_test, y_test) = imdb.load_data(num_words=max_features)\n",
    "\n",
    "x_train = sequence.pad_sequences(x_train, maxlen=maxlen)\n",
    "x_test = sequence.pad_sequences(x_test, maxlen=maxlen)"
   ]
  },
  {
   "cell_type": "code",
   "execution_count": 55,
   "metadata": {},
   "outputs": [],
   "source": [
    "rnn_hidden_dim = 5\n",
    "word_embedding_dim = 100\n",
    "model_rnn = Sequential()\n",
    "model_rnn.add(Embedding(max_features, word_embedding_dim))  #This layer takes each integer in the sequence\n",
    "model_rnn.add(SimpleRNN(rnn_hidden_dim,\n",
    "                    kernel_initializer=initializers.RandomNormal(stddev=0.001),\n",
    "                    recurrent_initializer=initializers.Identity(gain=1.0),\n",
    "                    activation='relu',\n",
    "                    input_shape=x_train.shape[1:]))\n",
    "\n",
    "model_rnn.add(Dense(1, activation='sigmoid'))"
   ]
  },
  {
   "cell_type": "code",
   "execution_count": 56,
   "metadata": {},
   "outputs": [],
   "source": [
    "rmsprop = RMSprop(lr = .0001)\n",
    "\n",
    "model_rnn.compile(loss='binary_crossentropy',\n",
    "              optimizer=rmsprop,\n",
    "              metrics=['accuracy'])"
   ]
  },
  {
   "cell_type": "code",
   "execution_count": 57,
   "metadata": {},
   "outputs": [
    {
     "name": "stdout",
     "output_type": "stream",
     "text": [
      "Epoch 1/10\n",
      "782/782 [==============================] - 17s 21ms/step - loss: 0.5567 - accuracy: 0.7141 - val_loss: 0.4642 - val_accuracy: 0.7861\n",
      "Epoch 2/10\n",
      "782/782 [==============================] - 15s 19ms/step - loss: 0.4083 - accuracy: 0.8173 - val_loss: 0.4095 - val_accuracy: 0.8115\n",
      "Epoch 3/10\n",
      "782/782 [==============================] - 16s 20ms/step - loss: 0.3495 - accuracy: 0.8495 - val_loss: 0.3733 - val_accuracy: 0.8324\n",
      "Epoch 4/10\n",
      "782/782 [==============================] - 14s 18ms/step - loss: 0.3185 - accuracy: 0.8646 - val_loss: 0.3556 - val_accuracy: 0.8408\n",
      "Epoch 5/10\n",
      "782/782 [==============================] - 16s 20ms/step - loss: 0.2993 - accuracy: 0.8751 - val_loss: 0.3532 - val_accuracy: 0.8442\n",
      "Epoch 6/10\n",
      "782/782 [==============================] - 16s 20ms/step - loss: 0.2852 - accuracy: 0.8829 - val_loss: 0.3414 - val_accuracy: 0.8482\n",
      "Epoch 7/10\n",
      "782/782 [==============================] - 16s 21ms/step - loss: 0.2758 - accuracy: 0.8856 - val_loss: 0.3416 - val_accuracy: 0.8474\n",
      "Epoch 8/10\n",
      "782/782 [==============================] - 16s 20ms/step - loss: 0.2684 - accuracy: 0.8902 - val_loss: 0.3372 - val_accuracy: 0.8509\n",
      "Epoch 9/10\n",
      "782/782 [==============================] - 16s 20ms/step - loss: 0.2625 - accuracy: 0.8906 - val_loss: 0.3511 - val_accuracy: 0.8467\n",
      "Epoch 10/10\n",
      "782/782 [==============================] - 16s 21ms/step - loss: 0.2570 - accuracy: 0.8945 - val_loss: 0.3417 - val_accuracy: 0.8528\n"
     ]
    },
    {
     "data": {
      "text/plain": "<keras.callbacks.History at 0x11452ff8190>"
     },
     "execution_count": 57,
     "metadata": {},
     "output_type": "execute_result"
    }
   ],
   "source": [
    "model_rnn.fit(x_train, y_train,\n",
    "          batch_size=batch_size,\n",
    "          epochs=10,\n",
    "          validation_data=(x_test, y_test))"
   ]
  },
  {
   "cell_type": "code",
   "execution_count": 58,
   "metadata": {},
   "outputs": [
    {
     "name": "stdout",
     "output_type": "stream",
     "text": [
      "Epoch 1/10\n",
      "782/782 [==============================] - 16s 20ms/step - loss: 0.2522 - accuracy: 0.8970 - val_loss: 0.3357 - val_accuracy: 0.8528\n",
      "Epoch 2/10\n",
      "782/782 [==============================] - 15s 19ms/step - loss: 0.2489 - accuracy: 0.8990 - val_loss: 0.3357 - val_accuracy: 0.8525\n",
      "Epoch 3/10\n",
      "782/782 [==============================] - 15s 19ms/step - loss: 0.2454 - accuracy: 0.9010 - val_loss: 0.3447 - val_accuracy: 0.8508\n",
      "Epoch 4/10\n",
      "782/782 [==============================] - 15s 19ms/step - loss: 0.2422 - accuracy: 0.9017 - val_loss: 0.3442 - val_accuracy: 0.8524\n",
      "Epoch 5/10\n",
      "782/782 [==============================] - 16s 20ms/step - loss: 0.2391 - accuracy: 0.9028 - val_loss: 0.3436 - val_accuracy: 0.8515\n",
      "Epoch 6/10\n",
      "782/782 [==============================] - 16s 20ms/step - loss: 0.2354 - accuracy: 0.9063 - val_loss: 0.3529 - val_accuracy: 0.8475\n",
      "Epoch 7/10\n",
      "782/782 [==============================] - 16s 20ms/step - loss: 0.2328 - accuracy: 0.9076 - val_loss: 0.3585 - val_accuracy: 0.8478\n",
      "Epoch 8/10\n",
      "782/782 [==============================] - 15s 19ms/step - loss: 0.2295 - accuracy: 0.9070 - val_loss: 0.3480 - val_accuracy: 0.8507\n",
      "Epoch 9/10\n",
      "782/782 [==============================] - 15s 19ms/step - loss: 0.2254 - accuracy: 0.9105 - val_loss: 0.3531 - val_accuracy: 0.8494\n",
      "Epoch 10/10\n",
      "782/782 [==============================] - 15s 20ms/step - loss: 0.2220 - accuracy: 0.9137 - val_loss: 0.3737 - val_accuracy: 0.8435\n"
     ]
    },
    {
     "data": {
      "text/plain": "<keras.callbacks.History at 0x11433d064f0>"
     },
     "execution_count": 58,
     "metadata": {},
     "output_type": "execute_result"
    }
   ],
   "source": [
    "# Out of curiosity, run for 10 more epochs\n",
    "model_rnn.fit(x_train, y_train,\n",
    "          batch_size=batch_size,\n",
    "          epochs=10,\n",
    "          validation_data=(x_test, y_test))"
   ]
  },
  {
   "cell_type": "markdown",
   "metadata": {},
   "source": [
    "---\n",
    "### Machine Learning Foundation (C) 2020 IBM Corporation"
   ]
  }
 ],
 "metadata": {
  "kernelspec": {
   "display_name": "Python 3",
   "language": "python",
   "name": "python3"
  },
  "language_info": {
   "codemirror_mode": {
    "name": "ipython",
    "version": 3
   },
   "file_extension": ".py",
   "mimetype": "text/x-python",
   "name": "python",
   "nbconvert_exporter": "python",
   "pygments_lexer": "ipython3",
   "version": "3.7.4"
  }
 },
 "nbformat": 4,
 "nbformat_minor": 4
}