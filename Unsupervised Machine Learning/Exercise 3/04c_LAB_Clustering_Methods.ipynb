{
 "cells": [
  {
   "cell_type": "markdown",
   "metadata": {
    "run_control": {
     "marked": true
    }
   },
   "source": [
    "# Machine Learning Foundation\n",
    "\n",
    "## Course 4, Part c: Clustering Methods LAB"
   ]
  },
  {
   "cell_type": "markdown",
   "metadata": {},
   "source": [
    "# Clustering Methods Exercises"
   ]
  },
  {
   "cell_type": "markdown",
   "metadata": {},
   "source": [
    "## Introduction\n",
    "\n",
    "This lab uses a dataset on wine quality. The data set contains various chemical properties of wine, such as acidity, sugar, pH, and alcohol. It also contains a quality metric (3-9, with highest being better) and a color (red or white). The name of the file is `Wine_Quality_Data.csv`.\n",
    "\n",
    "We will be using the chemical properties (i.e. everything but quality and color) to cluster the wine. Though this is unsupervised learning, there are interesting semi-supervised extensions relating clustering results onto color and quality."
   ]
  },
  {
   "cell_type": "code",
   "execution_count": 15,
   "metadata": {},
   "outputs": [
    {
     "ename": "FileNotFoundError",
     "evalue": "[WinError 2] The system cannot find the file specified: 'data'",
     "output_type": "error",
     "traceback": [
      "\u001B[1;31m---------------------------------------------------------------------------\u001B[0m",
      "\u001B[1;31mFileNotFoundError\u001B[0m                         Traceback (most recent call last)",
      "\u001B[1;32m~\\AppData\\Local\\Temp/ipykernel_20796/782367931.py\u001B[0m in \u001B[0;36m<module>\u001B[1;34m\u001B[0m\n\u001B[0;32m      1\u001B[0m \u001B[1;32mimport\u001B[0m \u001B[0mnumpy\u001B[0m \u001B[1;32mas\u001B[0m \u001B[0mnp\u001B[0m\u001B[1;33m,\u001B[0m \u001B[0mpandas\u001B[0m \u001B[1;32mas\u001B[0m \u001B[0mpd\u001B[0m\u001B[1;33m,\u001B[0m \u001B[0mmatplotlib\u001B[0m\u001B[1;33m.\u001B[0m\u001B[0mpyplot\u001B[0m \u001B[1;32mas\u001B[0m \u001B[0mplt\u001B[0m\u001B[1;33m,\u001B[0m \u001B[0mseaborn\u001B[0m \u001B[1;32mas\u001B[0m \u001B[0msns\u001B[0m\u001B[1;33m,\u001B[0m \u001B[0mos\u001B[0m\u001B[1;33m\u001B[0m\u001B[1;33m\u001B[0m\u001B[0m\n\u001B[1;32m----> 2\u001B[1;33m \u001B[0mos\u001B[0m\u001B[1;33m.\u001B[0m\u001B[0mchdir\u001B[0m\u001B[1;33m(\u001B[0m\u001B[1;34m'data'\u001B[0m\u001B[1;33m)\u001B[0m\u001B[1;33m\u001B[0m\u001B[1;33m\u001B[0m\u001B[0m\n\u001B[0m\u001B[0;32m      3\u001B[0m \u001B[1;32mfrom\u001B[0m \u001B[0mcolorsetup\u001B[0m \u001B[1;32mimport\u001B[0m \u001B[0mcolors\u001B[0m\u001B[1;33m,\u001B[0m \u001B[0mpalette\u001B[0m\u001B[1;33m\u001B[0m\u001B[1;33m\u001B[0m\u001B[0m\n\u001B[0;32m      4\u001B[0m \u001B[0msns\u001B[0m\u001B[1;33m.\u001B[0m\u001B[0mset_palette\u001B[0m\u001B[1;33m(\u001B[0m\u001B[0mpalette\u001B[0m\u001B[1;33m)\u001B[0m\u001B[1;33m\u001B[0m\u001B[1;33m\u001B[0m\u001B[0m\n",
      "\u001B[1;31mFileNotFoundError\u001B[0m: [WinError 2] The system cannot find the file specified: 'data'"
     ]
    }
   ],
   "source": [
    "import numpy as np, pandas as pd, matplotlib.pyplot as plt, seaborn as sns, os\n",
    "os.chdir('data')\n",
    "from colorsetup import colors, palette\n",
    "sns.set_palette(palette)"
   ]
  },
  {
   "cell_type": "markdown",
   "metadata": {},
   "source": [
    "## Question 1\n",
    "\n",
    "* Import the data and examine the features. \n",
    "* Note which are continuous, categorical, and boolean. \n",
    "* How many entries are there for the two colors and range of qualities? \n",
    "* Make a histogram plot of the quality for each of the wine colors."
   ]
  },
  {
   "cell_type": "code",
   "execution_count": 16,
   "metadata": {
    "ExecuteTime": {
     "end_time": "2017-03-20T12:10:48.585240Z",
     "start_time": "2017-03-20T08:10:48.548076-04:00"
    },
    "collapsed": false,
    "jupyter": {
     "outputs_hidden": false
    }
   },
   "outputs": [
    {
     "data": {
      "text/plain": "                           0       1      2      3\nfixed_acidity            7.4     7.8    7.8   11.2\nvolatile_acidity         0.7    0.88   0.76   0.28\ncitric_acid              0.0     0.0   0.04   0.56\nresidual_sugar           1.9     2.6    2.3    1.9\nchlorides              0.076   0.098  0.092  0.075\nfree_sulfur_dioxide     11.0    25.0   15.0   17.0\ntotal_sulfur_dioxide    34.0    67.0   54.0   60.0\ndensity               0.9978  0.9968  0.997  0.998\npH                      3.51     3.2   3.26   3.16\nsulphates               0.56    0.68   0.65   0.58\nalcohol                  9.4     9.8    9.8    9.8\nquality                    5       5      5      6\ncolor                    red     red    red    red",
      "text/html": "<div>\n<style scoped>\n    .dataframe tbody tr th:only-of-type {\n        vertical-align: middle;\n    }\n\n    .dataframe tbody tr th {\n        vertical-align: top;\n    }\n\n    .dataframe thead th {\n        text-align: right;\n    }\n</style>\n<table border=\"1\" class=\"dataframe\">\n  <thead>\n    <tr style=\"text-align: right;\">\n      <th></th>\n      <th>0</th>\n      <th>1</th>\n      <th>2</th>\n      <th>3</th>\n    </tr>\n  </thead>\n  <tbody>\n    <tr>\n      <th>fixed_acidity</th>\n      <td>7.4</td>\n      <td>7.8</td>\n      <td>7.8</td>\n      <td>11.2</td>\n    </tr>\n    <tr>\n      <th>volatile_acidity</th>\n      <td>0.7</td>\n      <td>0.88</td>\n      <td>0.76</td>\n      <td>0.28</td>\n    </tr>\n    <tr>\n      <th>citric_acid</th>\n      <td>0.0</td>\n      <td>0.0</td>\n      <td>0.04</td>\n      <td>0.56</td>\n    </tr>\n    <tr>\n      <th>residual_sugar</th>\n      <td>1.9</td>\n      <td>2.6</td>\n      <td>2.3</td>\n      <td>1.9</td>\n    </tr>\n    <tr>\n      <th>chlorides</th>\n      <td>0.076</td>\n      <td>0.098</td>\n      <td>0.092</td>\n      <td>0.075</td>\n    </tr>\n    <tr>\n      <th>free_sulfur_dioxide</th>\n      <td>11.0</td>\n      <td>25.0</td>\n      <td>15.0</td>\n      <td>17.0</td>\n    </tr>\n    <tr>\n      <th>total_sulfur_dioxide</th>\n      <td>34.0</td>\n      <td>67.0</td>\n      <td>54.0</td>\n      <td>60.0</td>\n    </tr>\n    <tr>\n      <th>density</th>\n      <td>0.9978</td>\n      <td>0.9968</td>\n      <td>0.997</td>\n      <td>0.998</td>\n    </tr>\n    <tr>\n      <th>pH</th>\n      <td>3.51</td>\n      <td>3.2</td>\n      <td>3.26</td>\n      <td>3.16</td>\n    </tr>\n    <tr>\n      <th>sulphates</th>\n      <td>0.56</td>\n      <td>0.68</td>\n      <td>0.65</td>\n      <td>0.58</td>\n    </tr>\n    <tr>\n      <th>alcohol</th>\n      <td>9.4</td>\n      <td>9.8</td>\n      <td>9.8</td>\n      <td>9.8</td>\n    </tr>\n    <tr>\n      <th>quality</th>\n      <td>5</td>\n      <td>5</td>\n      <td>5</td>\n      <td>6</td>\n    </tr>\n    <tr>\n      <th>color</th>\n      <td>red</td>\n      <td>red</td>\n      <td>red</td>\n      <td>red</td>\n    </tr>\n  </tbody>\n</table>\n</div>"
     },
     "execution_count": 16,
     "metadata": {},
     "output_type": "execute_result"
    }
   ],
   "source": [
    "### BEGIN SOLUTION\n",
    "# Import the data\n",
    "data = pd.read_csv('Wine_Quality_Data.csv')\n",
    "\n",
    "data.head(4).T"
   ]
  },
  {
   "cell_type": "code",
   "execution_count": 17,
   "metadata": {
    "ExecuteTime": {
     "end_time": "2017-03-20T12:09:58.538878Z",
     "start_time": "2017-03-20T08:09:58.531714-04:00"
    },
    "collapsed": false,
    "jupyter": {
     "outputs_hidden": false
    }
   },
   "outputs": [
    {
     "data": {
      "text/plain": "(6497, 13)"
     },
     "execution_count": 17,
     "metadata": {},
     "output_type": "execute_result"
    }
   ],
   "source": [
    "data.shape"
   ]
  },
  {
   "cell_type": "markdown",
   "metadata": {},
   "source": [
    "The data types for each entry. The implementation of K-means in Scikit-learn is designed only to work with continuous data (even though it is sometimes used with categorical or boolean types). Fortunately, all the columns we will be using (everything except quality and color) are continuous."
   ]
  },
  {
   "cell_type": "code",
   "execution_count": 18,
   "metadata": {
    "ExecuteTime": {
     "end_time": "2017-03-20T12:12:23.585637Z",
     "start_time": "2017-03-20T08:12:23.576416-04:00"
    },
    "collapsed": false,
    "jupyter": {
     "outputs_hidden": false
    }
   },
   "outputs": [
    {
     "data": {
      "text/plain": "fixed_acidity           float64\nvolatile_acidity        float64\ncitric_acid             float64\nresidual_sugar          float64\nchlorides               float64\nfree_sulfur_dioxide     float64\ntotal_sulfur_dioxide    float64\ndensity                 float64\npH                      float64\nsulphates               float64\nalcohol                 float64\nquality                   int64\ncolor                    object\ndtype: object"
     },
     "execution_count": 18,
     "metadata": {},
     "output_type": "execute_result"
    }
   ],
   "source": [
    "data.dtypes"
   ]
  },
  {
   "cell_type": "markdown",
   "metadata": {},
   "source": [
    "The number of entries for each wine color."
   ]
  },
  {
   "cell_type": "code",
   "execution_count": 19,
   "metadata": {
    "ExecuteTime": {
     "end_time": "2017-03-20T12:10:32.347631Z",
     "start_time": "2017-03-20T08:10:32.337545-04:00"
    },
    "collapsed": false,
    "jupyter": {
     "outputs_hidden": false
    }
   },
   "outputs": [
    {
     "data": {
      "text/plain": "white    4898\nred      1599\nName: color, dtype: int64"
     },
     "execution_count": 19,
     "metadata": {},
     "output_type": "execute_result"
    }
   ],
   "source": [
    "data.color.value_counts()"
   ]
  },
  {
   "cell_type": "markdown",
   "metadata": {},
   "source": [
    "The distribution of quality values."
   ]
  },
  {
   "cell_type": "code",
   "execution_count": 20,
   "metadata": {
    "ExecuteTime": {
     "end_time": "2017-03-20T13:00:49.509254Z",
     "start_time": "2017-03-20T09:00:49.495394-04:00"
    },
    "collapsed": false,
    "jupyter": {
     "outputs_hidden": false
    }
   },
   "outputs": [
    {
     "data": {
      "text/plain": "3      30\n4     216\n5    2138\n6    2836\n7    1079\n8     193\n9       5\nName: quality, dtype: int64"
     },
     "execution_count": 20,
     "metadata": {},
     "output_type": "execute_result"
    }
   ],
   "source": [
    "data.quality.value_counts().sort_index()"
   ]
  },
  {
   "cell_type": "markdown",
   "metadata": {},
   "source": [
    "Now for the histogram."
   ]
  },
  {
   "cell_type": "code",
   "execution_count": 21,
   "metadata": {
    "ExecuteTime": {
     "end_time": "2017-03-20T13:05:20.809064Z",
     "start_time": "2017-03-20T09:05:20.584910-04:00"
    },
    "collapsed": false,
    "jupyter": {
     "outputs_hidden": false
    }
   },
   "outputs": [
    {
     "data": {
      "text/plain": "<Figure size 432x288 with 1 Axes>",
      "image/png": "[encoded data removed]"
     },
     "metadata": {},
     "output_type": "display_data"
    }
   ],
   "source": [
    "# seaborn styles\n",
    "sns.set_context('notebook')\n",
    "sns.set_style('white')\n",
    "\n",
    "# custom colors\n",
    "red = sns.color_palette()[2]\n",
    "white = sns.color_palette()[4]\n",
    "\n",
    "# set bins for histogram\n",
    "bin_range = np.array([3, 4, 5, 6, 7, 8, 9])\n",
    "\n",
    "# plot histogram of quality counts for red and white wines\n",
    "ax = plt.axes()\n",
    "for color, plot_color in zip(['red', 'white'], [red, white]):\n",
    "    q_data = data.loc[data.color==color, 'quality']\n",
    "    q_data.hist(bins=bin_range, \n",
    "                alpha=0.5, ax=ax, \n",
    "                color=plot_color, label=color)\n",
    "    \n",
    "\n",
    "ax.legend()\n",
    "ax.set(xlabel='Quality', ylabel='Occurrence')\n",
    "\n",
    "# force tick labels to be in middle of region\n",
    "ax.set_xlim(3,10)\n",
    "ax.set_xticks(bin_range+0.5)\n",
    "ax.set_xticklabels(bin_range);\n",
    "ax.grid('off')\n",
    "### END SOLUTION"
   ]
  },
  {
   "cell_type": "markdown",
   "metadata": {},
   "source": [
    "## Question 2\n",
    "\n",
    "* Examine the correlation and skew of the relevant variables--everything except color and quality (without dropping these columns from our data).\n",
    "* Perform any appropriate feature transformations and/or scaling.\n",
    "* Examine the pairwise distribution of the variables with pairplots to verify scaling and normalization efforts.\n"
   ]
  },
  {
   "cell_type": "code",
   "execution_count": 22,
   "metadata": {
    "collapsed": false,
    "jupyter": {
     "outputs_hidden": false
    }
   },
   "outputs": [
    {
     "data": {
      "text/plain": "                      fixed_acidity  volatile_acidity  citric_acid  \\\nfixed_acidity              0.000000          0.219008     0.324436   \nvolatile_acidity           0.219008          0.000000    -0.377981   \ncitric_acid                0.324436         -0.377981     0.000000   \nresidual_sugar            -0.111981         -0.196011     0.142451   \nchlorides                  0.298195          0.377124     0.038998   \nfree_sulfur_dioxide       -0.282735         -0.352557     0.133126   \ntotal_sulfur_dioxide      -0.329054         -0.414476     0.195242   \ndensity                    0.458910          0.271296     0.096154   \npH                        -0.252700          0.261454    -0.329808   \nsulphates                  0.299568          0.225984     0.056197   \nalcohol                   -0.095452         -0.037640    -0.010493   \n\n                      residual_sugar  chlorides  free_sulfur_dioxide  \\\nfixed_acidity              -0.111981   0.298195            -0.282735   \nvolatile_acidity           -0.196011   0.377124            -0.352557   \ncitric_acid                 0.142451   0.038998             0.133126   \nresidual_sugar              0.000000  -0.128940             0.402871   \nchlorides                  -0.128940   0.000000            -0.195045   \nfree_sulfur_dioxide         0.402871  -0.195045             0.000000   \ntotal_sulfur_dioxide        0.495482  -0.279630             0.720934   \ndensity                     0.552517   0.362615             0.025717   \npH                         -0.267320   0.044708            -0.145854   \nsulphates                  -0.185927   0.395593            -0.188457   \nalcohol                    -0.359415  -0.256916            -0.179838   \n\n                      total_sulfur_dioxide   density        pH  sulphates  \\\nfixed_acidity                    -0.329054  0.458910 -0.252700   0.299568   \nvolatile_acidity                 -0.414476  0.271296  0.261454   0.225984   \ncitric_acid                       0.195242  0.096154 -0.329808   0.056197   \nresidual_sugar                    0.495482  0.552517 -0.267320  -0.185927   \nchlorides                        -0.279630  0.362615  0.044708   0.395593   \nfree_sulfur_dioxide               0.720934  0.025717 -0.145854  -0.188457   \ntotal_sulfur_dioxide              0.000000  0.032395 -0.238413  -0.275727   \ndensity                           0.032395  0.000000  0.011686   0.259478   \npH                               -0.238413  0.011686  0.000000   0.192123   \nsulphates                        -0.275727  0.259478  0.192123   0.000000   \nalcohol                          -0.265740 -0.686745  0.121248  -0.003029   \n\n                       alcohol  \nfixed_acidity        -0.095452  \nvolatile_acidity     -0.037640  \ncitric_acid          -0.010493  \nresidual_sugar       -0.359415  \nchlorides            -0.256916  \nfree_sulfur_dioxide  -0.179838  \ntotal_sulfur_dioxide -0.265740  \ndensity              -0.686745  \npH                    0.121248  \nsulphates            -0.003029  \nalcohol               0.000000  ",
      "text/html": "<div>\n<style scoped>\n    .dataframe tbody tr th:only-of-type {\n        vertical-align: middle;\n    }\n\n    .dataframe tbody tr th {\n        vertical-align: top;\n    }\n\n    .dataframe thead th {\n        text-align: right;\n    }\n</style>\n<table border=\"1\" class=\"dataframe\">\n  <thead>\n    <tr style=\"text-align: right;\">\n      <th></th>\n      <th>fixed_acidity</th>\n      <th>volatile_acidity</th>\n      <th>citric_acid</th>\n      <th>residual_sugar</th>\n      <th>chlorides</th>\n      <th>free_sulfur_dioxide</th>\n      <th>total_sulfur_dioxide</th>\n      <th>density</th>\n      <th>pH</th>\n      <th>sulphates</th>\n      <th>alcohol</th>\n    </tr>\n  </thead>\n  <tbody>\n    <tr>\n      <th>fixed_acidity</th>\n      <td>0.000000</td>\n      <td>0.219008</td>\n      <td>0.324436</td>\n      <td>-0.111981</td>\n      <td>0.298195</td>\n      <td>-0.282735</td>\n      <td>-0.329054</td>\n      <td>0.458910</td>\n      <td>-0.252700</td>\n      <td>0.299568</td>\n      <td>-0.095452</td>\n    </tr>\n    <tr>\n      <th>volatile_acidity</th>\n      <td>0.219008</td>\n      <td>0.000000</td>\n      <td>-0.377981</td>\n      <td>-0.196011</td>\n      <td>0.377124</td>\n      <td>-0.352557</td>\n      <td>-0.414476</td>\n      <td>0.271296</td>\n      <td>0.261454</td>\n      <td>0.225984</td>\n      <td>-0.037640</td>\n    </tr>\n    <tr>\n      <th>citric_acid</th>\n      <td>0.324436</td>\n      <td>-0.377981</td>\n      <td>0.000000</td>\n      <td>0.142451</td>\n      <td>0.038998</td>\n      <td>0.133126</td>\n      <td>0.195242</td>\n      <td>0.096154</td>\n      <td>-0.329808</td>\n      <td>0.056197</td>\n      <td>-0.010493</td>\n    </tr>\n    <tr>\n      <th>residual_sugar</th>\n      <td>-0.111981</td>\n      <td>-0.196011</td>\n      <td>0.142451</td>\n      <td>0.000000</td>\n      <td>-0.128940</td>\n      <td>0.402871</td>\n      <td>0.495482</td>\n      <td>0.552517</td>\n      <td>-0.267320</td>\n      <td>-0.185927</td>\n      <td>-0.359415</td>\n    </tr>\n    <tr>\n      <th>chlorides</th>\n      <td>0.298195</td>\n      <td>0.377124</td>\n      <td>0.038998</td>\n      <td>-0.128940</td>\n      <td>0.000000</td>\n      <td>-0.195045</td>\n      <td>-0.279630</td>\n      <td>0.362615</td>\n      <td>0.044708</td>\n      <td>0.395593</td>\n      <td>-0.256916</td>\n    </tr>\n    <tr>\n      <th>free_sulfur_dioxide</th>\n      <td>-0.282735</td>\n      <td>-0.352557</td>\n      <td>0.133126</td>\n      <td>0.402871</td>\n      <td>-0.195045</td>\n      <td>0.000000</td>\n      <td>0.720934</td>\n      <td>0.025717</td>\n      <td>-0.145854</td>\n      <td>-0.188457</td>\n      <td>-0.179838</td>\n    </tr>\n    <tr>\n      <th>total_sulfur_dioxide</th>\n      <td>-0.329054</td>\n      <td>-0.414476</td>\n      <td>0.195242</td>\n      <td>0.495482</td>\n      <td>-0.279630</td>\n      <td>0.720934</td>\n      <td>0.000000</td>\n      <td>0.032395</td>\n      <td>-0.238413</td>\n      <td>-0.275727</td>\n      <td>-0.265740</td>\n    </tr>\n    <tr>\n      <th>density</th>\n      <td>0.458910</td>\n      <td>0.271296</td>\n      <td>0.096154</td>\n      <td>0.552517</td>\n      <td>0.362615</td>\n      <td>0.025717</td>\n      <td>0.032395</td>\n      <td>0.000000</td>\n      <td>0.011686</td>\n      <td>0.259478</td>\n      <td>-0.686745</td>\n    </tr>\n    <tr>\n      <th>pH</th>\n      <td>-0.252700</td>\n      <td>0.261454</td>\n      <td>-0.329808</td>\n      <td>-0.267320</td>\n      <td>0.044708</td>\n      <td>-0.145854</td>\n      <td>-0.238413</td>\n      <td>0.011686</td>\n      <td>0.000000</td>\n      <td>0.192123</td>\n      <td>0.121248</td>\n    </tr>\n    <tr>\n      <th>sulphates</th>\n      <td>0.299568</td>\n      <td>0.225984</td>\n      <td>0.056197</td>\n      <td>-0.185927</td>\n      <td>0.395593</td>\n      <td>-0.188457</td>\n      <td>-0.275727</td>\n      <td>0.259478</td>\n      <td>0.192123</td>\n      <td>0.000000</td>\n      <td>-0.003029</td>\n    </tr>\n    <tr>\n      <th>alcohol</th>\n      <td>-0.095452</td>\n      <td>-0.037640</td>\n      <td>-0.010493</td>\n      <td>-0.359415</td>\n      <td>-0.256916</td>\n      <td>-0.179838</td>\n      <td>-0.265740</td>\n      <td>-0.686745</td>\n      <td>0.121248</td>\n      <td>-0.003029</td>\n      <td>0.000000</td>\n    </tr>\n  </tbody>\n</table>\n</div>"
     },
     "execution_count": 22,
     "metadata": {},
     "output_type": "execute_result"
    }
   ],
   "source": [
    "### BEGIN SOLUTION\n",
    "float_columns = [x for x in data.columns if x not in ['color', 'quality']]\n",
    "\n",
    "# The correlation matrix\n",
    "corr_mat = data[float_columns].corr()\n",
    "\n",
    "# Strip out the diagonal values for the next step\n",
    "for x in range(len(float_columns)):\n",
    "    corr_mat.iloc[x,x] = 0.0\n",
    "    \n",
    "corr_mat"
   ]
  },
  {
   "cell_type": "code",
   "execution_count": 23,
   "metadata": {
    "collapsed": false,
    "jupyter": {
     "outputs_hidden": false
    }
   },
   "outputs": [
    {
     "data": {
      "text/plain": "fixed_acidity                        density\nvolatile_acidity        total_sulfur_dioxide\ncitric_acid                 volatile_acidity\nresidual_sugar                       density\nchlorides                          sulphates\nfree_sulfur_dioxide     total_sulfur_dioxide\ntotal_sulfur_dioxide     free_sulfur_dioxide\ndensity                              alcohol\npH                               citric_acid\nsulphates                          chlorides\nalcohol                              density\ndtype: object"
     },
     "execution_count": 23,
     "metadata": {},
     "output_type": "execute_result"
    }
   ],
   "source": [
    "# Pairwise maximal correlations\n",
    "corr_mat.abs().idxmax()"
   ]
  },
  {
   "cell_type": "markdown",
   "metadata": {},
   "source": [
    "And an examination of the skew values in anticipation of transformations."
   ]
  },
  {
   "cell_type": "code",
   "execution_count": 24,
   "metadata": {
    "collapsed": false,
    "jupyter": {
     "outputs_hidden": false
    }
   },
   "outputs": [
    {
     "data": {
      "text/plain": "chlorides              5.399828\nsulphates              1.797270\nfixed_acidity          1.723290\nvolatile_acidity       1.495097\nresidual_sugar         1.435404\nfree_sulfur_dioxide    1.220066\ndtype: float64"
     },
     "execution_count": 24,
     "metadata": {},
     "output_type": "execute_result"
    }
   ],
   "source": [
    "skew_columns = (data[float_columns]\n",
    "                .skew()\n",
    "                .sort_values(ascending=False))\n",
    "\n",
    "skew_columns = skew_columns.loc[skew_columns > 0.75]\n",
    "skew_columns"
   ]
  },
  {
   "cell_type": "code",
   "execution_count": 25,
   "metadata": {
    "collapsed": false,
    "jupyter": {
     "outputs_hidden": false
    }
   },
   "outputs": [],
   "source": [
    "# Perform log transform on skewed columns\n",
    "for col in skew_columns.index.tolist():\n",
    "    data[col] = np.log1p(data[col])\n"
   ]
  },
  {
   "cell_type": "markdown",
   "metadata": {},
   "source": [
    "Perform feature scaling."
   ]
  },
  {
   "cell_type": "code",
   "execution_count": 26,
   "metadata": {
    "collapsed": false,
    "jupyter": {
     "outputs_hidden": false
    }
   },
   "outputs": [
    {
     "data": {
      "text/plain": "   fixed_acidity  volatile_acidity  citric_acid  residual_sugar  chlorides  \\\n0       0.229509          2.135767    -2.192833       -0.815173   0.624554   \n1       0.550261          3.012817    -2.192833       -0.498175   1.281999   \n2       0.550261          2.438032    -1.917553       -0.625740   1.104012   \n3       2.802728         -0.337109     1.661085       -0.815173   0.594352   \n\n   free_sulfur_dioxide  total_sulfur_dioxide   density        pH  sulphates  \\\n0            -1.193601             -1.446359  1.034993  1.813090   0.250355   \n1            -0.013944             -0.862469  0.701486 -0.115073   1.059213   \n2            -0.754684             -1.092486  0.768188  0.258120   0.862549   \n3            -0.574982             -0.986324  1.101694 -0.363868   0.389396   \n\n    alcohol  quality color  \n0 -0.915464        5   red  \n1 -0.580068        5   red  \n2 -0.580068        5   red  \n3 -0.580068        6   red  ",
      "text/html": "<div>\n<style scoped>\n    .dataframe tbody tr th:only-of-type {\n        vertical-align: middle;\n    }\n\n    .dataframe tbody tr th {\n        vertical-align: top;\n    }\n\n    .dataframe thead th {\n        text-align: right;\n    }\n</style>\n<table border=\"1\" class=\"dataframe\">\n  <thead>\n    <tr style=\"text-align: right;\">\n      <th></th>\n      <th>fixed_acidity</th>\n      <th>volatile_acidity</th>\n      <th>citric_acid</th>\n      <th>residual_sugar</th>\n      <th>chlorides</th>\n      <th>free_sulfur_dioxide</th>\n      <th>total_sulfur_dioxide</th>\n      <th>density</th>\n      <th>pH</th>\n      <th>sulphates</th>\n      <th>alcohol</th>\n      <th>quality</th>\n      <th>color</th>\n    </tr>\n  </thead>\n  <tbody>\n    <tr>\n      <th>0</th>\n      <td>0.229509</td>\n      <td>2.135767</td>\n      <td>-2.192833</td>\n      <td>-0.815173</td>\n      <td>0.624554</td>\n      <td>-1.193601</td>\n      <td>-1.446359</td>\n      <td>1.034993</td>\n      <td>1.813090</td>\n      <td>0.250355</td>\n      <td>-0.915464</td>\n      <td>5</td>\n      <td>red</td>\n    </tr>\n    <tr>\n      <th>1</th>\n      <td>0.550261</td>\n      <td>3.012817</td>\n      <td>-2.192833</td>\n      <td>-0.498175</td>\n      <td>1.281999</td>\n      <td>-0.013944</td>\n      <td>-0.862469</td>\n      <td>0.701486</td>\n      <td>-0.115073</td>\n      <td>1.059213</td>\n      <td>-0.580068</td>\n      <td>5</td>\n      <td>red</td>\n    </tr>\n    <tr>\n      <th>2</th>\n      <td>0.550261</td>\n      <td>2.438032</td>\n      <td>-1.917553</td>\n      <td>-0.625740</td>\n      <td>1.104012</td>\n      <td>-0.754684</td>\n      <td>-1.092486</td>\n      <td>0.768188</td>\n      <td>0.258120</td>\n      <td>0.862549</td>\n      <td>-0.580068</td>\n      <td>5</td>\n      <td>red</td>\n    </tr>\n    <tr>\n      <th>3</th>\n      <td>2.802728</td>\n      <td>-0.337109</td>\n      <td>1.661085</td>\n      <td>-0.815173</td>\n      <td>0.594352</td>\n      <td>-0.574982</td>\n      <td>-0.986324</td>\n      <td>1.101694</td>\n      <td>-0.363868</td>\n      <td>0.389396</td>\n      <td>-0.580068</td>\n      <td>6</td>\n      <td>red</td>\n    </tr>\n  </tbody>\n</table>\n</div>"
     },
     "execution_count": 26,
     "metadata": {},
     "output_type": "execute_result"
    }
   ],
   "source": [
    "from sklearn.preprocessing import StandardScaler\n",
    "\n",
    "sc = StandardScaler()\n",
    "data[float_columns] = sc.fit_transform(data[float_columns])\n",
    "\n",
    "data.head(4)"
   ]
  },
  {
   "cell_type": "markdown",
   "metadata": {},
   "source": [
    "Finally, the pairplot of the transformed and scaled features."
   ]
  },
  {
   "cell_type": "markdown",
   "metadata": {},
   "source": [
    "## Question 3\n",
    "\n",
    "* Fit a K-means clustering model with two clusters.\n",
    "* Examine the clusters by counting the number of red and white wines in each cluster."
   ]
  },
  {
   "cell_type": "code",
   "execution_count": 38,
   "metadata": {
    "ExecuteTime": {
     "end_time": "2017-03-20T01:59:09.017663Z",
     "start_time": "2017-03-19T21:59:08.896993-04:00"
    },
    "collapsed": false,
    "jupyter": {
     "outputs_hidden": false
    }
   },
   "outputs": [],
   "source": [
    "from sklearn.cluster import KMeans\n",
    "### BEGIN SOLUTION\n",
    "km = KMeans(n_clusters=2, random_state=42)\n",
    "km = km.fit(data[float_columns])\n",
    "\n",
    "data['kmeans'] = km.predict(data[float_columns])"
   ]
  },
  {
   "cell_type": "code",
   "execution_count": 39,
   "metadata": {
    "ExecuteTime": {
     "end_time": "2017-03-20T01:59:09.332043Z",
     "start_time": "2017-03-19T21:59:09.315410-04:00"
    },
    "collapsed": false,
    "jupyter": {
     "outputs_hidden": false
    }
   },
   "outputs": [
    {
     "data": {
      "text/plain": "              number\nkmeans color        \n0      red      1576\n       white      87\n1      red        23\n       white    4811",
      "text/html": "<div>\n<style scoped>\n    .dataframe tbody tr th:only-of-type {\n        vertical-align: middle;\n    }\n\n    .dataframe tbody tr th {\n        vertical-align: top;\n    }\n\n    .dataframe thead th {\n        text-align: right;\n    }\n</style>\n<table border=\"1\" class=\"dataframe\">\n  <thead>\n    <tr style=\"text-align: right;\">\n      <th></th>\n      <th></th>\n      <th>number</th>\n    </tr>\n    <tr>\n      <th>kmeans</th>\n      <th>color</th>\n      <th></th>\n    </tr>\n  </thead>\n  <tbody>\n    <tr>\n      <th rowspan=\"2\" valign=\"top\">0</th>\n      <th>red</th>\n      <td>1576</td>\n    </tr>\n    <tr>\n      <th>white</th>\n      <td>87</td>\n    </tr>\n    <tr>\n      <th rowspan=\"2\" valign=\"top\">1</th>\n      <th>red</th>\n      <td>23</td>\n    </tr>\n    <tr>\n      <th>white</th>\n      <td>4811</td>\n    </tr>\n  </tbody>\n</table>\n</div>"
     },
     "execution_count": 39,
     "metadata": {},
     "output_type": "execute_result"
    }
   ],
   "source": [
    "(data[['color','kmeans']]\n",
    " .groupby(['kmeans','color'])\n",
    " .size()\n",
    " .to_frame()\n",
    " .rename(columns={0:'number'}))\n",
    "### END SOLUTION"
   ]
  },
  {
   "cell_type": "markdown",
   "metadata": {},
   "source": [
    "## Question 4\n",
    "\n",
    "* Now fit K-Means models with cluster values ranging from 1 to 20.\n",
    "* For each model, store the number of clusters and the inertia value. \n",
    "* Plot cluster number vs inertia. Does there appear to be an ideal cluster number?"
   ]
  },
  {
   "cell_type": "code",
   "execution_count": 29,
   "metadata": {
    "ExecuteTime": {
     "end_time": "2017-03-20T01:59:21.588328Z",
     "start_time": "2017-03-19T21:59:12.450288-04:00"
    },
    "collapsed": false,
    "jupyter": {
     "outputs_hidden": false
    }
   },
   "outputs": [],
   "source": [
    "### BEGIN SOLUTION\n",
    "# Create and fit a range of models\n",
    "km_list = list()\n",
    "\n",
    "for clust in range(1,21):\n",
    "    km = KMeans(n_clusters=clust, random_state=42)\n",
    "    km = km.fit(data[float_columns])\n",
    "    \n",
    "    km_list.append(pd.Series({'clusters': clust, \n",
    "                              'inertia': km.inertia_,\n",
    "                              'model': km}))"
   ]
  },
  {
   "cell_type": "code",
   "execution_count": 30,
   "metadata": {
    "ExecuteTime": {
     "end_time": "2017-03-20T01:59:21.775524Z",
     "start_time": "2017-03-19T21:59:21.589747-04:00"
    },
    "collapsed": false,
    "jupyter": {
     "outputs_hidden": false
    }
   },
   "outputs": [
    {
     "data": {
      "text/plain": "<Figure size 432x288 with 1 Axes>",
      "image/png": "[encoded data removed]"
     },
     "metadata": {},
     "output_type": "display_data"
    }
   ],
   "source": [
    "plot_data = (pd.concat(km_list, axis=1)\n",
    "             .T\n",
    "             [['clusters','inertia']]\n",
    "             .set_index('clusters'))\n",
    "\n",
    "ax = plot_data.plot(marker='o',ls='-')\n",
    "ax.set_xticks(range(0,21,2))\n",
    "ax.set_xlim(0,21)\n",
    "ax.set(xlabel='Cluster', ylabel='Inertia');\n",
    "### END SOLUTION"
   ]
  },
  {
   "cell_type": "markdown",
   "metadata": {},
   "source": [
    "## Question 5\n",
    "\n",
    "* Fit an agglomerative clustering model with two clusters.\n",
    "* Compare the results to those obtained by K-means with regards to wine color by reporting the number of red and white observations in each cluster for both K-means and agglomerative clustering.\n",
    "* Visualize the dendrogram produced by agglomerative clustering. *Hint:* SciPy has a module called [`cluster.hierarchy`](https://docs.scipy.org/doc/scipy/reference/cluster.hierarchy.html#module-scipy.cluster.hierarchy) that contains the `linkage` and `dendrogram` functions required to create the linkage map and plot the resulting dendrogram."
   ]
  },
  {
   "cell_type": "code",
   "execution_count": 40,
   "metadata": {
    "ExecuteTime": {
     "end_time": "2017-03-20T11:30:31.254165Z",
     "start_time": "2017-03-20T07:30:27.894864-04:00"
    },
    "collapsed": false,
    "jupyter": {
     "outputs_hidden": false
    }
   },
   "outputs": [],
   "source": [
    "from sklearn.cluster import AgglomerativeClustering\n",
    "### BEGIN SOLUTION\n",
    "ag = AgglomerativeClustering(n_clusters=2, linkage='ward', compute_full_tree=True)\n",
    "ag = ag.fit(data[float_columns])\n",
    "data['agglom'] = ag.fit_predict(data[float_columns])"
   ]
  },
  {
   "cell_type": "markdown",
   "metadata": {},
   "source": [
    "Note that cluster assignment is arbitrary, the respective primary cluster numbers for red and white may not be identical to the ones below and also may not be the same for both K-means and agglomerative clustering."
   ]
  },
  {
   "cell_type": "code",
   "execution_count": 42,
   "metadata": {
    "ExecuteTime": {
     "end_time": "2017-03-20T11:46:08.938224Z",
     "start_time": "2017-03-20T07:46:08.924114-04:00"
    },
    "collapsed": false,
    "jupyter": {
     "outputs_hidden": false
    }
   },
   "outputs": [
    {
     "data": {
      "text/plain": "              number\ncolor agglom        \nred   0           31\n      1         1568\nwhite 0         4755\n      1          143",
      "text/html": "<div>\n<style scoped>\n    .dataframe tbody tr th:only-of-type {\n        vertical-align: middle;\n    }\n\n    .dataframe tbody tr th {\n        vertical-align: top;\n    }\n\n    .dataframe thead th {\n        text-align: right;\n    }\n</style>\n<table border=\"1\" class=\"dataframe\">\n  <thead>\n    <tr style=\"text-align: right;\">\n      <th></th>\n      <th></th>\n      <th>number</th>\n    </tr>\n    <tr>\n      <th>color</th>\n      <th>agglom</th>\n      <th></th>\n    </tr>\n  </thead>\n  <tbody>\n    <tr>\n      <th rowspan=\"2\" valign=\"top\">red</th>\n      <th>0</th>\n      <td>31</td>\n    </tr>\n    <tr>\n      <th>1</th>\n      <td>1568</td>\n    </tr>\n    <tr>\n      <th rowspan=\"2\" valign=\"top\">white</th>\n      <th>0</th>\n      <td>4755</td>\n    </tr>\n    <tr>\n      <th>1</th>\n      <td>143</td>\n    </tr>\n  </tbody>\n</table>\n</div>"
     },
     "execution_count": 42,
     "metadata": {},
     "output_type": "execute_result"
    }
   ],
   "source": [
    "# First, for Agglomerative Clustering:\n",
    "(data[['color','agglom','kmeans']]\n",
    " .groupby(['color','agglom'])\n",
    " .size()\n",
    " .to_frame()\n",
    " .rename(columns={0:'number'}))"
   ]
  },
  {
   "cell_type": "code",
   "execution_count": 44,
   "metadata": {},
   "outputs": [
    {
     "data": {
      "text/plain": "              number\ncolor kmeans        \nred   0         1576\n      1           23\nwhite 0           87\n      1         4811",
      "text/html": "<div>\n<style scoped>\n    .dataframe tbody tr th:only-of-type {\n        vertical-align: middle;\n    }\n\n    .dataframe tbody tr th {\n        vertical-align: top;\n    }\n\n    .dataframe thead th {\n        text-align: right;\n    }\n</style>\n<table border=\"1\" class=\"dataframe\">\n  <thead>\n    <tr style=\"text-align: right;\">\n      <th></th>\n      <th></th>\n      <th>number</th>\n    </tr>\n    <tr>\n      <th>color</th>\n      <th>kmeans</th>\n      <th></th>\n    </tr>\n  </thead>\n  <tbody>\n    <tr>\n      <th rowspan=\"2\" valign=\"top\">red</th>\n      <th>0</th>\n      <td>1576</td>\n    </tr>\n    <tr>\n      <th>1</th>\n      <td>23</td>\n    </tr>\n    <tr>\n      <th rowspan=\"2\" valign=\"top\">white</th>\n      <th>0</th>\n      <td>87</td>\n    </tr>\n    <tr>\n      <th>1</th>\n      <td>4811</td>\n    </tr>\n  </tbody>\n</table>\n</div>"
     },
     "execution_count": 44,
     "metadata": {},
     "output_type": "execute_result"
    }
   ],
   "source": [
    "# Comparing with KMeans results:\n",
    "(data[['color','agglom','kmeans']]\n",
    " .groupby(['color','kmeans'])\n",
    " .size()\n",
    " .to_frame()\n",
    " .rename(columns={0:'number'}))"
   ]
  },
  {
   "cell_type": "code",
   "execution_count": 45,
   "metadata": {},
   "outputs": [
    {
     "data": {
      "text/plain": "                     number\ncolor agglom kmeans        \nred   0      0           13\n             1           18\n      1      0         1563\n             1            5\nwhite 0      0           38\n             1         4717\n      1      0           49\n             1           94",
      "text/html": "<div>\n<style scoped>\n    .dataframe tbody tr th:only-of-type {\n        vertical-align: middle;\n    }\n\n    .dataframe tbody tr th {\n        vertical-align: top;\n    }\n\n    .dataframe thead th {\n        text-align: right;\n    }\n</style>\n<table border=\"1\" class=\"dataframe\">\n  <thead>\n    <tr style=\"text-align: right;\">\n      <th></th>\n      <th></th>\n      <th></th>\n      <th>number</th>\n    </tr>\n    <tr>\n      <th>color</th>\n      <th>agglom</th>\n      <th>kmeans</th>\n      <th></th>\n    </tr>\n  </thead>\n  <tbody>\n    <tr>\n      <th rowspan=\"4\" valign=\"top\">red</th>\n      <th rowspan=\"2\" valign=\"top\">0</th>\n      <th>0</th>\n      <td>13</td>\n    </tr>\n    <tr>\n      <th>1</th>\n      <td>18</td>\n    </tr>\n    <tr>\n      <th rowspan=\"2\" valign=\"top\">1</th>\n      <th>0</th>\n      <td>1563</td>\n    </tr>\n    <tr>\n      <th>1</th>\n      <td>5</td>\n    </tr>\n    <tr>\n      <th rowspan=\"4\" valign=\"top\">white</th>\n      <th rowspan=\"2\" valign=\"top\">0</th>\n      <th>0</th>\n      <td>38</td>\n    </tr>\n    <tr>\n      <th>1</th>\n      <td>4717</td>\n    </tr>\n    <tr>\n      <th rowspan=\"2\" valign=\"top\">1</th>\n      <th>0</th>\n      <td>49</td>\n    </tr>\n    <tr>\n      <th>1</th>\n      <td>94</td>\n    </tr>\n  </tbody>\n</table>\n</div>"
     },
     "execution_count": 45,
     "metadata": {},
     "output_type": "execute_result"
    }
   ],
   "source": [
    "# Comparing results:\n",
    "(data[['color','agglom','kmeans']]\n",
    " .groupby(['color','agglom','kmeans'])\n",
    " .size()\n",
    " .to_frame()\n",
    " .rename(columns={0:'number'}))"
   ]
  },
  {
   "cell_type": "markdown",
   "metadata": {},
   "source": [
    "Though the cluster numbers are not identical, the clusters are very consistent within a single wine variety (red or white).\n",
    "\n",
    "And here is a plot of the dendrogram created from agglomerative clustering."
   ]
  },
  {
   "cell_type": "code",
   "execution_count": 46,
   "metadata": {
    "ExecuteTime": {
     "end_time": "2017-03-20T11:53:03.838928Z",
     "start_time": "2017-03-20T07:53:02.088506-04:00"
    },
    "collapsed": false,
    "jupyter": {
     "outputs_hidden": false
    }
   },
   "outputs": [
    {
     "data": {
      "text/plain": "<Figure size 1080x360 with 1 Axes>",
      "image/png": "[encoded data removed]"
     },
     "metadata": {},
     "output_type": "display_data"
    }
   ],
   "source": [
    "# First, we import the cluster hierarchy module from SciPy (described above) to obtain the linkage and dendrogram functions.\n",
    "from scipy.cluster import hierarchy\n",
    "\n",
    "Z = hierarchy.linkage(ag.children_, method='ward')\n",
    "\n",
    "fig, ax = plt.subplots(figsize=(15,5))\n",
    "\n",
    "# Some color setup\n",
    "red = colors[2]\n",
    "blue = colors[0]\n",
    "\n",
    "hierarchy.set_link_color_palette([red, 'gray'])\n",
    "\n",
    "den = hierarchy.dendrogram(Z, orientation='top', \n",
    "                           p=30, truncate_mode='lastp',\n",
    "                           show_leaf_counts=True, ax=ax,\n",
    "                           above_threshold_color=blue)\n",
    "### END SOLUTION"
   ]
  },
  {
   "cell_type": "markdown",
   "metadata": {},
   "source": [
    "## Question 6\n",
    "\n",
    "In this question, we are going to explore clustering as a form of feature engineering.\n",
    "\n",
    "* Create a **binary** target variable `y`, denoting if the quality is greater than 7 or not.\n",
    "* Create a variable called `X_with_kmeans` from `data`, by dropping the columns \"quality\", \"color\" and \"agglom\" from the dataset. Create `X_without_kmeans` from that by dropping \"kmeans\".\n",
    "* For both datasets, using __[StratifiedShuffleSplit](https://scikit-learn.org/stable/modules/generated/sklearn.model_selection.StratifiedShuffleSplit.html)__ with 10 splits, fit 10 Random Forest Classifiers and find the mean of the ROC-AUC scores from these 10 classifiers.\n",
    "* Compare the average roc-auc scores for both models, the one using the KMeans cluster as a feature and the one that doesn't use it.\n"
   ]
  },
  {
   "cell_type": "code",
   "execution_count": 47,
   "metadata": {
    "collapsed": false,
    "jupyter": {
     "outputs_hidden": false
    }
   },
   "outputs": [
    {
     "name": "stdout",
     "output_type": "stream",
     "text": [
      "Without kmeans cluster as input to Random Forest, roc-auc is \"0.9161984126984125\"\n",
      "Using kmeans cluster as input to Random Forest, roc-auc is \"0.9135634920634921\"\n"
     ]
    }
   ],
   "source": [
    "from sklearn.ensemble import RandomForestClassifier\n",
    "from sklearn.metrics import classification_report, roc_auc_score\n",
    "from sklearn.model_selection import StratifiedShuffleSplit\n",
    "\n",
    "### BEGIN SOLUTION\n",
    "y = (data['quality'] > 7).astype(int)\n",
    "X_with_kmeans = data.drop(['agglom', 'color', 'quality'], axis=1)\n",
    "X_without_kmeans = X_with_kmeans.drop('kmeans', axis=1)\n",
    "sss = StratifiedShuffleSplit(n_splits=10, random_state=6532)\n",
    "\n",
    "def get_avg_roc_10splits(estimator, X, y):\n",
    "    roc_auc_list = []\n",
    "    for train_index, test_index in sss.split(X, y):\n",
    "        X_train, X_test = X.iloc[train_index], X.iloc[test_index]\n",
    "        y_train, y_test = y.iloc[train_index], y.iloc[test_index]\n",
    "        estimator.fit(X_train, y_train)\n",
    "        y_predicted = estimator.predict(X_test)\n",
    "        y_scored = estimator.predict_proba(X_test)[:, 1]\n",
    "        roc_auc_list.append(roc_auc_score(y_test, y_scored))\n",
    "    return np.mean(roc_auc_list)\n",
    "# return classification_report(y_test, y_predicted)\n",
    "\n",
    "estimator = RandomForestClassifier()\n",
    "roc_with_kmeans = get_avg_roc_10splits(estimator, X_with_kmeans, y)\n",
    "roc_without_kmeans = get_avg_roc_10splits(estimator, X_without_kmeans, y)\n",
    "print(\"Without kmeans cluster as input to Random Forest, roc-auc is \\\"{0}\\\"\".format(roc_without_kmeans))\n",
    "print(\"Using kmeans cluster as input to Random Forest, roc-auc is \\\"{0}\\\"\".format(roc_with_kmeans))"
   ]
  },
  {
   "cell_type": "markdown",
   "metadata": {},
   "source": [
    "Let's now explore if the number of clusters have an effect in this improvement.\n",
    "\n",
    "* Create the basis training set from `data` by restricting to float_columns.\n",
    "* For $n = 1, \\ldots, 20$, fit a KMeans algorithim with $n$ clusters. __[One-hot encode]()__ it and add it to the **basis** training set. Don't add it to the previous iteration.\n",
    "* Fit 10 **Logistic Regression** models and compute the average roc-auc-score.\n",
    "* Plot the average roc-auc scores."
   ]
  },
  {
   "cell_type": "code",
   "execution_count": 48,
   "metadata": {
    "collapsed": false,
    "jupyter": {
     "outputs_hidden": false
    }
   },
   "outputs": [
    {
     "name": "stderr",
     "output_type": "stream",
     "text": [
      "C:\\Users\\tyyp-\\AppData\\Local\\Temp/ipykernel_20796/3022818781.py:20: UserWarning: FixedFormatter should only be used together with FixedLocator\n",
      "  ax.set(\n"
     ]
    },
    {
     "data": {
      "text/plain": "<Figure size 432x288 with 1 Axes>",
      "image/png": "[encoded data removed]"
     },
     "metadata": {},
     "output_type": "display_data"
    }
   ],
   "source": [
    "from sklearn.linear_model import LogisticRegression\n",
    "\n",
    "X_basis = data[float_columns]\n",
    "sss = StratifiedShuffleSplit(n_splits=10, random_state=6532)\n",
    "\n",
    "def create_kmeans_columns(n):\n",
    "    km = KMeans(n_clusters=n)\n",
    "    km.fit(X_basis)\n",
    "    km_col = pd.Series(km.predict(X_basis))\n",
    "    km_cols = pd.get_dummies(km_col, prefix='kmeans_cluster')\n",
    "    return pd.concat([X_basis, km_cols], axis=1)\n",
    "\n",
    "estimator = LogisticRegression()\n",
    "ns = range(1, 21)\n",
    "roc_auc_list = [get_avg_roc_10splits(estimator, create_kmeans_columns(n), y)\n",
    "                for n in ns]\n",
    "\n",
    "ax = plt.axes()\n",
    "ax.plot(ns, roc_auc_list)\n",
    "ax.set(\n",
    "    xticklabels= ns,\n",
    "    xlabel='Number of clusters as features',\n",
    "    ylabel='Average ROC-AUC over 10 iterations',\n",
    "    title='KMeans + LogisticRegression'\n",
    ")\n",
    "ax.grid(True)\n",
    "### END SOLUTION"
   ]
  },
  {
   "cell_type": "markdown",
   "metadata": {},
   "source": [
    "---\n",
    "### Machine Learning Foundation (C) 2020 IBM Corporation"
   ]
  }
 ],
 "metadata": {
  "kernelspec": {
   "display_name": "Python 3",
   "language": "python",
   "name": "python3"
  },
  "language_info": {
   "codemirror_mode": {
    "name": "ipython",
    "version": 3
   },
   "file_extension": ".py",
   "mimetype": "text/x-python",
   "name": "python",
   "nbconvert_exporter": "python",
   "pygments_lexer": "ipython3",
   "version": "3.7.6"
  }
 },
 "nbformat": 4,
 "nbformat_minor": 4
}