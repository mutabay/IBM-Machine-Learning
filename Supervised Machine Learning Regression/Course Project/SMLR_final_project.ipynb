{
 "cells": [
  {
   "cell_type": "markdown",
   "metadata": {
    "collapsed": true,
    "pycharm": {
     "name": "#%% md\n"
    }
   },
   "source": [
    "# Final Project for Supervised Machine Learning Regression\n",
    "\n",
    "## Supervised Machine Learning Regression with Car details from Car Dekho\n",
    "\n",
    "[Data Source](https://www.kaggle.com/nehalbirla/vehicle-dataset-from-cardekho?select=CAR+DETAILS+FROM+CAR+DEKHO.csv)\n",
    "\n",
    "<br />\n",
    "<hr />\n",
    "\n",
    "    Mustafa Tayyip BAYRAM\n",
    "     December 22, 2021\n",
    "<hr />\n",
    "<br />\n",
    "\n",
    "## Data Set Contents\n",
    "As columns implies, contents is extremely clear.\n",
    ">- Number of Instances: 4340\n",
    ">- Number of Attributes: 8 including the class attributes\n",
    ">- Columns of data set\n",
    "        name\n",
    "        year\n",
    "        selling_price\n",
    "        km_driven\n",
    "        fuel\n",
    "        seller_type\n",
    "        transmission\n",
    "        Owner\n",
    "\n",
    "\n",
    "\n",
    "## Notebook Contents\n",
    ">1-2. Importing Packages and Reading\n",
    ">3. Data Examination and Cleaning\n",
    ">4. Exploratory Data Analysis\n",
    ">5. Training Model\n",
    "\n",
    "- Model Variations\n",
    "- Cross-validation and Regularization\n",
    "- Predict on the test set\n",
    "\n",
    "\n"
   ]
  },
  {
   "cell_type": "markdown",
   "metadata": {},
   "source": [
    "### 1. Packages"
   ]
  },
  {
   "cell_type": "code",
   "execution_count": 57,
   "metadata": {
    "pycharm": {
     "name": "#%%\n"
    }
   },
   "outputs": [
    {
     "name": "stdout",
     "output_type": "stream",
     "text": [
      "Populating the interactive namespace from numpy and matplotlib\n"
     ]
    }
   ],
   "source": [
    "%pylab inline\n",
    "import pandas as pd\n",
    "import numpy as np\n",
    "import matplotlib.pyplot as plt\n",
    "import seaborn as sns\n",
    "sns.set()\n",
    "%matplotlib inline\n",
    "\n",
    "# Mute the setting with a copy warnings\n",
    "pd.options.mode.chained_assignment = None\n",
    "\n",
    "# Mute the sklearn warning about regularization\n",
    "import warnings\n",
    "warnings.filterwarnings('ignore', module='sklearn')"
   ]
  },
  {
   "cell_type": "markdown",
   "metadata": {},
   "source": [
    "### 2. Read Data"
   ]
  },
  {
   "cell_type": "code",
   "execution_count": 58,
   "metadata": {
    "pycharm": {
     "name": "#%%\n"
    }
   },
   "outputs": [
    {
     "data": {
      "text/plain": "                       name  year  selling_price  km_driven    fuel  \\\n0             Maruti 800 AC  2007          60000      70000  Petrol   \n1  Maruti Wagon R LXI Minor  2007         135000      50000  Petrol   \n2      Hyundai Verna 1.6 SX  2012         600000     100000  Diesel   \n3    Datsun RediGO T Option  2017         250000      46000  Petrol   \n4     Honda Amaze VX i-DTEC  2014         450000     141000  Diesel   \n\n  seller_type transmission         owner  \n0  Individual       Manual   First Owner  \n1  Individual       Manual   First Owner  \n2  Individual       Manual   First Owner  \n3  Individual       Manual   First Owner  \n4  Individual       Manual  Second Owner  ",
      "text/html": "<div>\n<style scoped>\n    .dataframe tbody tr th:only-of-type {\n        vertical-align: middle;\n    }\n\n    .dataframe tbody tr th {\n        vertical-align: top;\n    }\n\n    .dataframe thead th {\n        text-align: right;\n    }\n</style>\n<table border=\"1\" class=\"dataframe\">\n  <thead>\n    <tr style=\"text-align: right;\">\n      <th></th>\n      <th>name</th>\n      <th>year</th>\n      <th>selling_price</th>\n      <th>km_driven</th>\n      <th>fuel</th>\n      <th>seller_type</th>\n      <th>transmission</th>\n      <th>owner</th>\n    </tr>\n  </thead>\n  <tbody>\n    <tr>\n      <th>0</th>\n      <td>Maruti 800 AC</td>\n      <td>2007</td>\n      <td>60000</td>\n      <td>70000</td>\n      <td>Petrol</td>\n      <td>Individual</td>\n      <td>Manual</td>\n      <td>First Owner</td>\n    </tr>\n    <tr>\n      <th>1</th>\n      <td>Maruti Wagon R LXI Minor</td>\n      <td>2007</td>\n      <td>135000</td>\n      <td>50000</td>\n      <td>Petrol</td>\n      <td>Individual</td>\n      <td>Manual</td>\n      <td>First Owner</td>\n    </tr>\n    <tr>\n      <th>2</th>\n      <td>Hyundai Verna 1.6 SX</td>\n      <td>2012</td>\n      <td>600000</td>\n      <td>100000</td>\n      <td>Diesel</td>\n      <td>Individual</td>\n      <td>Manual</td>\n      <td>First Owner</td>\n    </tr>\n    <tr>\n      <th>3</th>\n      <td>Datsun RediGO T Option</td>\n      <td>2017</td>\n      <td>250000</td>\n      <td>46000</td>\n      <td>Petrol</td>\n      <td>Individual</td>\n      <td>Manual</td>\n      <td>First Owner</td>\n    </tr>\n    <tr>\n      <th>4</th>\n      <td>Honda Amaze VX i-DTEC</td>\n      <td>2014</td>\n      <td>450000</td>\n      <td>141000</td>\n      <td>Diesel</td>\n      <td>Individual</td>\n      <td>Manual</td>\n      <td>Second Owner</td>\n    </tr>\n  </tbody>\n</table>\n</div>"
     },
     "execution_count": 58,
     "metadata": {},
     "output_type": "execute_result"
    }
   ],
   "source": [
    "# Loading dataset\n",
    "filepath = 'CAR DETAILS FROM CAR DEKHO.csv'\n",
    "df = pd.read_csv(filepath)\n",
    "df.head()"
   ]
  },
  {
   "cell_type": "code",
   "execution_count": 59,
   "metadata": {
    "pycharm": {
     "name": "#%%\n"
    }
   },
   "outputs": [
    {
     "data": {
      "text/plain": "(4340, 8)"
     },
     "execution_count": 59,
     "metadata": {},
     "output_type": "execute_result"
    }
   ],
   "source": [
    "df.shape"
   ]
  },
  {
   "cell_type": "markdown",
   "metadata": {},
   "source": [
    "### 3. Data Examination and Cleaning"
   ]
  },
  {
   "cell_type": "code",
   "execution_count": 60,
   "metadata": {
    "pycharm": {
     "name": "#%%\n"
    }
   },
   "outputs": [
    {
     "data": {
      "text/plain": "(3577, 8)"
     },
     "execution_count": 60,
     "metadata": {},
     "output_type": "execute_result"
    }
   ],
   "source": [
    "# Drop duplicates and check the new data dimensions\n",
    "df = df.drop_duplicates(keep='first').reset_index(drop='True')\n",
    "df.shape"
   ]
  },
  {
   "cell_type": "code",
   "execution_count": 61,
   "metadata": {
    "pycharm": {
     "name": "#%%\n"
    }
   },
   "outputs": [],
   "source": [
    "# Splitting value and pred cols.\n",
    "y_col = 'selling_price'\n",
    "X = df.drop(y_col, axis=1)\n",
    "y = df[y_col]"
   ]
  },
  {
   "cell_type": "code",
   "execution_count": 62,
   "metadata": {
    "pycharm": {
     "name": "#%%\n"
    }
   },
   "outputs": [
    {
     "name": "stdout",
     "output_type": "stream",
     "text": [
      "Training and val set size (X): (2861, 7)\n",
      "Test set size (XT): (716, 7)\n",
      "Training and val set size (Y): (2861,)\n",
      "Test set size (YT): (716,)\n"
     ]
    }
   ],
   "source": [
    "# Split the data to use as training set and test set.\n",
    "from sklearn.model_selection import train_test_split\n",
    "X_training_val, X_test, y_train_val, y_test = train_test_split(X, y, test_size=0.2, random_state=47)\n",
    "print(f'Training and val set size (X): {X_training_val.shape}')\n",
    "print(f'Test set size (XT): {X_test.shape}')\n",
    "print(f\"Training and val set size (Y): {y_train_val.shape}\")\n",
    "print(f\"Test set size (YT): {y_test.shape}\")"
   ]
  },
  {
   "cell_type": "code",
   "execution_count": 63,
   "metadata": {
    "pycharm": {
     "name": "#%%\n"
    }
   },
   "outputs": [
    {
     "name": "stdout",
     "output_type": "stream",
     "text": [
      "Training set size (X): (2145, 7)\n",
      "Training set size (y): (2145,)\n",
      "Validation set size (X): (716, 7)\n",
      "Validation set size (y): (716,)\n"
     ]
    }
   ],
   "source": [
    "X_train, X_val, y_train, y_val = train_test_split(X_training_val, y_train_val, test_size=0.25, random_state=29)\n",
    "print(f'Training set size (X): {X_train.shape}')\n",
    "print(f'Training set size (y): {y_train.shape}')\n",
    "print(f'Validation set size (X): {X_val.shape}')\n",
    "print(f'Validation set size (y): {y_val.shape}')"
   ]
  },
  {
   "cell_type": "markdown",
   "metadata": {},
   "source": [
    "### 4. Exploratory Data Analysis"
   ]
  },
  {
   "cell_type": "code",
   "execution_count": 64,
   "metadata": {
    "pycharm": {
     "name": "#%%\n"
    }
   },
   "outputs": [
    {
     "name": "stdout",
     "output_type": "stream",
     "text": [
      "<class 'pandas.core.frame.DataFrame'>\n",
      "Int64Index: 2145 entries, 1930 to 2248\n",
      "Data columns (total 7 columns):\n",
      " #   Column        Non-Null Count  Dtype \n",
      "---  ------        --------------  ----- \n",
      " 0   name          2145 non-null   object\n",
      " 1   year          2145 non-null   int64 \n",
      " 2   km_driven     2145 non-null   int64 \n",
      " 3   fuel          2145 non-null   object\n",
      " 4   seller_type   2145 non-null   object\n",
      " 5   transmission  2145 non-null   object\n",
      " 6   owner         2145 non-null   object\n",
      "dtypes: int64(2), object(5)\n",
      "memory usage: 134.1+ KB\n"
     ]
    },
    {
     "data": {
      "text/plain": "              year      km_driven\ncount  2145.000000    2145.000000\nmean   2012.872261   70230.586946\nstd       4.261891   49131.166921\nmin    1996.000000       1.000000\n25%    2010.000000   40000.000000\n50%    2013.000000   62000.000000\n75%    2016.000000   90000.000000\nmax    2020.000000  806599.000000",
      "text/html": "<div>\n<style scoped>\n    .dataframe tbody tr th:only-of-type {\n        vertical-align: middle;\n    }\n\n    .dataframe tbody tr th {\n        vertical-align: top;\n    }\n\n    .dataframe thead th {\n        text-align: right;\n    }\n</style>\n<table border=\"1\" class=\"dataframe\">\n  <thead>\n    <tr style=\"text-align: right;\">\n      <th></th>\n      <th>year</th>\n      <th>km_driven</th>\n    </tr>\n  </thead>\n  <tbody>\n    <tr>\n      <th>count</th>\n      <td>2145.000000</td>\n      <td>2145.000000</td>\n    </tr>\n    <tr>\n      <th>mean</th>\n      <td>2012.872261</td>\n      <td>70230.586946</td>\n    </tr>\n    <tr>\n      <th>std</th>\n      <td>4.261891</td>\n      <td>49131.166921</td>\n    </tr>\n    <tr>\n      <th>min</th>\n      <td>1996.000000</td>\n      <td>1.000000</td>\n    </tr>\n    <tr>\n      <th>25%</th>\n      <td>2010.000000</td>\n      <td>40000.000000</td>\n    </tr>\n    <tr>\n      <th>50%</th>\n      <td>2013.000000</td>\n      <td>62000.000000</td>\n    </tr>\n    <tr>\n      <th>75%</th>\n      <td>2016.000000</td>\n      <td>90000.000000</td>\n    </tr>\n    <tr>\n      <th>max</th>\n      <td>2020.000000</td>\n      <td>806599.000000</td>\n    </tr>\n  </tbody>\n</table>\n</div>"
     },
     "execution_count": 64,
     "metadata": {},
     "output_type": "execute_result"
    }
   ],
   "source": [
    "X_train.head()\n",
    "X_train.info()\n",
    "X_train.describe()"
   ]
  },
  {
   "cell_type": "code",
   "execution_count": 65,
   "metadata": {
    "pycharm": {
     "name": "#%%\n"
    }
   },
   "outputs": [],
   "source": [
    "from datetime import date\n",
    "current_date = date.today()\n",
    "# Adding a new feature age and remove year\n",
    "X_train = X_train[ X_train['year'] <= current_date.year]\n",
    "X_train['age'] = current_date.year - X_train['year']\n",
    "X_train = X_train.drop(['year'], axis=1)"
   ]
  },
  {
   "cell_type": "code",
   "execution_count": 66,
   "metadata": {
    "pycharm": {
     "name": "#%%\n"
    }
   },
   "outputs": [
    {
     "data": {
      "text/plain": "                                             name  km_driven    fuel  \\\n1930                 Hyundai Grand i10 CRDi Magna      60000  Diesel   \n1497  Toyota Innova 2.5 G (Diesel) 8 Seater BS IV     300000  Diesel   \n82                Fiat Avventura MULTIJET Emotion      53000  Diesel   \n2036                            Toyota Corolla H3     120000  Petrol   \n1650                  Hyundai Creta 1.4 CRDi Base      70000  Diesel   \n\n     seller_type transmission         owner  age  \n1930  Individual       Manual  Second Owner    6  \n1497  Individual       Manual   First Owner   15  \n82    Individual       Manual  Second Owner    6  \n2036  Individual    Automatic  Second Owner   18  \n1650  Individual       Manual  Second Owner    3  ",
      "text/html": "<div>\n<style scoped>\n    .dataframe tbody tr th:only-of-type {\n        vertical-align: middle;\n    }\n\n    .dataframe tbody tr th {\n        vertical-align: top;\n    }\n\n    .dataframe thead th {\n        text-align: right;\n    }\n</style>\n<table border=\"1\" class=\"dataframe\">\n  <thead>\n    <tr style=\"text-align: right;\">\n      <th></th>\n      <th>name</th>\n      <th>km_driven</th>\n      <th>fuel</th>\n      <th>seller_type</th>\n      <th>transmission</th>\n      <th>owner</th>\n      <th>age</th>\n    </tr>\n  </thead>\n  <tbody>\n    <tr>\n      <th>1930</th>\n      <td>Hyundai Grand i10 CRDi Magna</td>\n      <td>60000</td>\n      <td>Diesel</td>\n      <td>Individual</td>\n      <td>Manual</td>\n      <td>Second Owner</td>\n      <td>6</td>\n    </tr>\n    <tr>\n      <th>1497</th>\n      <td>Toyota Innova 2.5 G (Diesel) 8 Seater BS IV</td>\n      <td>300000</td>\n      <td>Diesel</td>\n      <td>Individual</td>\n      <td>Manual</td>\n      <td>First Owner</td>\n      <td>15</td>\n    </tr>\n    <tr>\n      <th>82</th>\n      <td>Fiat Avventura MULTIJET Emotion</td>\n      <td>53000</td>\n      <td>Diesel</td>\n      <td>Individual</td>\n      <td>Manual</td>\n      <td>Second Owner</td>\n      <td>6</td>\n    </tr>\n    <tr>\n      <th>2036</th>\n      <td>Toyota Corolla H3</td>\n      <td>120000</td>\n      <td>Petrol</td>\n      <td>Individual</td>\n      <td>Automatic</td>\n      <td>Second Owner</td>\n      <td>18</td>\n    </tr>\n    <tr>\n      <th>1650</th>\n      <td>Hyundai Creta 1.4 CRDi Base</td>\n      <td>70000</td>\n      <td>Diesel</td>\n      <td>Individual</td>\n      <td>Manual</td>\n      <td>Second Owner</td>\n      <td>3</td>\n    </tr>\n  </tbody>\n</table>\n</div>"
     },
     "execution_count": 66,
     "metadata": {},
     "output_type": "execute_result"
    }
   ],
   "source": [
    "X_train.head()"
   ]
  },
  {
   "cell_type": "code",
   "execution_count": 67,
   "metadata": {
    "pycharm": {
     "name": "#%%\n"
    }
   },
   "outputs": [
    {
     "name": "stdout",
     "output_type": "stream",
     "text": [
      "Categorical columns: ['name', 'fuel', 'seller_type', 'transmission', 'owner']\n",
      "Numerical columns: ['km_driven', 'age']\n"
     ]
    }
   ],
   "source": [
    "# Determine columns by data types\n",
    "category_mask = (X_train.dtypes == object)\n",
    "num_mask = (X_train.dtypes == np.float64) | (X_train.dtypes == np.int64)\n",
    "\n",
    "category_cols = X_train.columns[category_mask].tolist()\n",
    "num_cols = X_train.columns[num_mask].tolist()\n",
    "\n",
    "print(f'Categorical columns: {category_cols}')\n",
    "print(f'Numerical columns: {num_cols}')\n"
   ]
  },
  {
   "cell_type": "markdown",
   "metadata": {
    "pycharm": {
     "name": "#%% md\n"
    }
   },
   "source": [
    "#### Analyzing Numerical Features"
   ]
  },
  {
   "cell_type": "code",
   "execution_count": 68,
   "metadata": {
    "pycharm": {
     "name": "#%%\n"
    }
   },
   "outputs": [],
   "source": [
    "# Create a plotting function\n",
    "def hist_loop(df: pd.DataFrame,\n",
    "              rows: int,\n",
    "              cols: int,\n",
    "              figsize: tuple):\n",
    "    \"\"\"\n",
    "    Returns multiple histograms as subplots\n",
    "    \"\"\"\n",
    "    fig, axes = plt.subplots(rows, cols, figsize=figsize)\n",
    "    for i, ax in enumerate(axes.flatten()):\n",
    "        if i < len(df.columns):\n",
    "            df[sorted(df.columns)[i]].plot.hist(bins=30, ax=ax)\n",
    "            ax.set_title(f'{sorted(df.columns)[i]} distribution')\n",
    "            ax.tick_params(axis='x')\n",
    "            ax.tick_params(axis='y')\n",
    "            ax.get_yaxis().get_label().set_visible(False)\n",
    "        else:\n",
    "            fig.delaxes(ax=ax)\n",
    "    fig.tight_layout()"
   ]
  },
  {
   "cell_type": "code",
   "execution_count": 69,
   "metadata": {
    "pycharm": {
     "name": "#%%\n"
    }
   },
   "outputs": [
    {
     "data": {
      "text/plain": "(2145, 7)"
     },
     "execution_count": 69,
     "metadata": {},
     "output_type": "execute_result"
    }
   ],
   "source": [
    "X_train.shape"
   ]
  },
  {
   "cell_type": "code",
   "execution_count": 70,
   "metadata": {
    "pycharm": {
     "name": "#%%\n"
    }
   },
   "outputs": [
    {
     "data": {
      "text/plain": "['km_driven', 'age', 'selling_price']"
     },
     "execution_count": 70,
     "metadata": {},
     "output_type": "execute_result"
    }
   ],
   "source": [
    "df_train = X_train\n",
    "df_train['selling_price'] = y_train\n",
    "df_num_cols = num_cols.copy()\n",
    "df_num_cols.append('selling_price')\n",
    "df_num_cols\n"
   ]
  },
  {
   "cell_type": "code",
   "execution_count": 71,
   "metadata": {
    "pycharm": {
     "name": "#%%\n"
    }
   },
   "outputs": [
    {
     "data": {
      "text/plain": "      km_driven  age  selling_price\n1930      60000    6         300000\n1497     300000   15         229999\n82        53000    6         350000\n2036     120000   18          95000\n1650      70000    3         950000\n...         ...  ...            ...\n1815      44000    4         509999\n1565     180000    8         150000\n871       68000    3        4000000\n3136      50000    4         320000\n2248     102000    9         650000\n\n[2145 rows x 3 columns]",
      "text/html": "<div>\n<style scoped>\n    .dataframe tbody tr th:only-of-type {\n        vertical-align: middle;\n    }\n\n    .dataframe tbody tr th {\n        vertical-align: top;\n    }\n\n    .dataframe thead th {\n        text-align: right;\n    }\n</style>\n<table border=\"1\" class=\"dataframe\">\n  <thead>\n    <tr style=\"text-align: right;\">\n      <th></th>\n      <th>km_driven</th>\n      <th>age</th>\n      <th>selling_price</th>\n    </tr>\n  </thead>\n  <tbody>\n    <tr>\n      <th>1930</th>\n      <td>60000</td>\n      <td>6</td>\n      <td>300000</td>\n    </tr>\n    <tr>\n      <th>1497</th>\n      <td>300000</td>\n      <td>15</td>\n      <td>229999</td>\n    </tr>\n    <tr>\n      <th>82</th>\n      <td>53000</td>\n      <td>6</td>\n      <td>350000</td>\n    </tr>\n    <tr>\n      <th>2036</th>\n      <td>120000</td>\n      <td>18</td>\n      <td>95000</td>\n    </tr>\n    <tr>\n      <th>1650</th>\n      <td>70000</td>\n      <td>3</td>\n      <td>950000</td>\n    </tr>\n    <tr>\n      <th>...</th>\n      <td>...</td>\n      <td>...</td>\n      <td>...</td>\n    </tr>\n    <tr>\n      <th>1815</th>\n      <td>44000</td>\n      <td>4</td>\n      <td>509999</td>\n    </tr>\n    <tr>\n      <th>1565</th>\n      <td>180000</td>\n      <td>8</td>\n      <td>150000</td>\n    </tr>\n    <tr>\n      <th>871</th>\n      <td>68000</td>\n      <td>3</td>\n      <td>4000000</td>\n    </tr>\n    <tr>\n      <th>3136</th>\n      <td>50000</td>\n      <td>4</td>\n      <td>320000</td>\n    </tr>\n    <tr>\n      <th>2248</th>\n      <td>102000</td>\n      <td>9</td>\n      <td>650000</td>\n    </tr>\n  </tbody>\n</table>\n<p>2145 rows × 3 columns</p>\n</div>"
     },
     "execution_count": 71,
     "metadata": {},
     "output_type": "execute_result"
    }
   ],
   "source": [
    "\n",
    "df_train[df_num_cols]"
   ]
  },
  {
   "cell_type": "code",
   "execution_count": 72,
   "metadata": {
    "pycharm": {
     "name": "#%%\n"
    }
   },
   "outputs": [
    {
     "data": {
      "text/plain": "<Figure size 1080x576 with 3 Axes>",
      "image/png": "[encoded data removed]"
     },
     "metadata": {
      "needs_background": "light"
     },
     "output_type": "display_data"
    }
   ],
   "source": [
    "# Plot all numerical features\n",
    "hist_loop(df=df_train[df_num_cols],\n",
    "        rows=2,\n",
    "        cols=3,\n",
    "        figsize=(15,8))"
   ]
  },
  {
   "cell_type": "code",
   "execution_count": 73,
   "metadata": {
    "pycharm": {
     "name": "#%%\n"
    }
   },
   "outputs": [
    {
     "data": {
      "text/plain": "                   Skew\nselling_price  4.097210\nkm_driven      3.137131\nage            0.751290",
      "text/html": "<div>\n<style scoped>\n    .dataframe tbody tr th:only-of-type {\n        vertical-align: middle;\n    }\n\n    .dataframe tbody tr th {\n        vertical-align: top;\n    }\n\n    .dataframe thead th {\n        text-align: right;\n    }\n</style>\n<table border=\"1\" class=\"dataframe\">\n  <thead>\n    <tr style=\"text-align: right;\">\n      <th></th>\n      <th>Skew</th>\n    </tr>\n  </thead>\n  <tbody>\n    <tr>\n      <th>selling_price</th>\n      <td>4.097210</td>\n    </tr>\n    <tr>\n      <th>km_driven</th>\n      <td>3.137131</td>\n    </tr>\n    <tr>\n      <th>age</th>\n      <td>0.751290</td>\n    </tr>\n  </tbody>\n</table>\n</div>"
     },
     "execution_count": 73,
     "metadata": {},
     "output_type": "execute_result"
    }
   ],
   "source": [
    "# Checking skewness of all numerical features\n",
    "def skew_df(df: pd.DataFrame, skew_limit: float) -> pd.DataFrame:\n",
    "    # Define a limit above that we will transform\n",
    "    skew_vals = df.skew()\n",
    "\n",
    "    # Showing the skewed cols\n",
    "    skew_cols = (skew_vals\n",
    "                 .sort_values(ascending=False)\n",
    "                 .to_frame('Skew')\n",
    "                 .query('abs(Skew) > {}'.format(skew_limit)))\n",
    "    return skew_cols\n",
    "skew_cols = skew_df(df_train[df_num_cols], 0.75)\n",
    "skew_cols"
   ]
  },
  {
   "cell_type": "code",
   "execution_count": 74,
   "metadata": {
    "pycharm": {
     "name": "#%%\n"
    }
   },
   "outputs": [
    {
     "data": {
      "text/plain": "Empty DataFrame\nColumns: [Skew]\nIndex: []",
      "text/html": "<div>\n<style scoped>\n    .dataframe tbody tr th:only-of-type {\n        vertical-align: middle;\n    }\n\n    .dataframe tbody tr th {\n        vertical-align: top;\n    }\n\n    .dataframe thead th {\n        text-align: right;\n    }\n</style>\n<table border=\"1\" class=\"dataframe\">\n  <thead>\n    <tr style=\"text-align: right;\">\n      <th></th>\n      <th>Skew</th>\n    </tr>\n  </thead>\n  <tbody>\n  </tbody>\n</table>\n</div>"
     },
     "execution_count": 74,
     "metadata": {},
     "output_type": "execute_result"
    }
   ],
   "source": [
    "X_train_sqrt = X_train[num_cols].copy()\n",
    "for col in list(skew_cols.index):\n",
    "    if col != 'selling_price':\n",
    "        X_train_sqrt[col] = X_train_sqrt[col].apply(np.sqrt)\n",
    "\n",
    "# Check again\n",
    "skew_df(X_train_sqrt, 0.75)"
   ]
  },
  {
   "cell_type": "code",
   "execution_count": 75,
   "metadata": {
    "pycharm": {
     "name": "#%%\n"
    }
   },
   "outputs": [
    {
     "data": {
      "text/plain": "<seaborn.axisgrid.PairGrid at 0x1bf49361ca0>"
     },
     "execution_count": 75,
     "metadata": {},
     "output_type": "execute_result"
    },
    {
     "data": {
      "text/plain": "<Figure size 540x540 with 12 Axes>",
      "image/png": "[encoded data removed]"
     },
     "metadata": {
      "needs_background": "light"
     },
     "output_type": "display_data"
    }
   ],
   "source": [
    "# Pair plot of transformed features and the target\n",
    "\n",
    "sns.pairplot(X_train_sqrt.join(y_train), plot_kws=dict(alpha=.2, edgecolor='none'))"
   ]
  },
  {
   "cell_type": "markdown",
   "metadata": {},
   "source": [
    "As you can see, there is a linear relationship with age and selling_price.\n",
    "Age and km_driven has positive relationship\n",
    "Multicollinearity\n"
   ]
  },
  {
   "cell_type": "code",
   "execution_count": 76,
   "metadata": {
    "pycharm": {
     "name": "#%%\n"
    }
   },
   "outputs": [
    {
     "data": {
      "text/plain": "   variables        VIF\n0  km_driven  11.963502\n1        age  11.963502",
      "text/html": "<div>\n<style scoped>\n    .dataframe tbody tr th:only-of-type {\n        vertical-align: middle;\n    }\n\n    .dataframe tbody tr th {\n        vertical-align: top;\n    }\n\n    .dataframe thead th {\n        text-align: right;\n    }\n</style>\n<table border=\"1\" class=\"dataframe\">\n  <thead>\n    <tr style=\"text-align: right;\">\n      <th></th>\n      <th>variables</th>\n      <th>VIF</th>\n    </tr>\n  </thead>\n  <tbody>\n    <tr>\n      <th>0</th>\n      <td>km_driven</td>\n      <td>11.963502</td>\n    </tr>\n    <tr>\n      <th>1</th>\n      <td>age</td>\n      <td>11.963502</td>\n    </tr>\n  </tbody>\n</table>\n</div>"
     },
     "execution_count": 76,
     "metadata": {},
     "output_type": "execute_result"
    }
   ],
   "source": [
    "from statsmodels.stats.outliers_influence import variance_inflation_factor\n",
    "\n",
    "def Calculate_vif(X):\n",
    "    # Calculating VIF\n",
    "    vif = pd.DataFrame()\n",
    "    vif['variables'] = X.columns\n",
    "    vif['VIF'] = [variance_inflation_factor(X.values, i) for i in range(X.shape[1])]\n",
    "    return vif\n",
    "\n",
    "Calculate_vif(X_train_sqrt)"
   ]
  },
  {
   "cell_type": "markdown",
   "metadata": {},
   "source": [
    "Variables have high multicollinearity. This problem can be solve by regularization later."
   ]
  },
  {
   "cell_type": "markdown",
   "metadata": {
    "pycharm": {
     "name": "#%% md\n"
    }
   },
   "source": [
    "### Categorical Features"
   ]
  },
  {
   "cell_type": "code",
   "execution_count": 77,
   "metadata": {
    "pycharm": {
     "name": "#%%\n"
    }
   },
   "outputs": [
    {
     "data": {
      "text/plain": "                          name    fuel seller_type transmission        owner\ncount                     2145    2145        2145         2145         2145\nunique                    1101       5           3            2            5\ntop     Maruti Swift Dzire VDI  Diesel  Individual       Manual  First Owner\nfreq                        38    1075        1711         1965         1311",
      "text/html": "<div>\n<style scoped>\n    .dataframe tbody tr th:only-of-type {\n        vertical-align: middle;\n    }\n\n    .dataframe tbody tr th {\n        vertical-align: top;\n    }\n\n    .dataframe thead th {\n        text-align: right;\n    }\n</style>\n<table border=\"1\" class=\"dataframe\">\n  <thead>\n    <tr style=\"text-align: right;\">\n      <th></th>\n      <th>name</th>\n      <th>fuel</th>\n      <th>seller_type</th>\n      <th>transmission</th>\n      <th>owner</th>\n    </tr>\n  </thead>\n  <tbody>\n    <tr>\n      <th>count</th>\n      <td>2145</td>\n      <td>2145</td>\n      <td>2145</td>\n      <td>2145</td>\n      <td>2145</td>\n    </tr>\n    <tr>\n      <th>unique</th>\n      <td>1101</td>\n      <td>5</td>\n      <td>3</td>\n      <td>2</td>\n      <td>5</td>\n    </tr>\n    <tr>\n      <th>top</th>\n      <td>Maruti Swift Dzire VDI</td>\n      <td>Diesel</td>\n      <td>Individual</td>\n      <td>Manual</td>\n      <td>First Owner</td>\n    </tr>\n    <tr>\n      <th>freq</th>\n      <td>38</td>\n      <td>1075</td>\n      <td>1711</td>\n      <td>1965</td>\n      <td>1311</td>\n    </tr>\n  </tbody>\n</table>\n</div>"
     },
     "execution_count": 77,
     "metadata": {},
     "output_type": "execute_result"
    }
   ],
   "source": [
    "X_train.describe(include=object)"
   ]
  },
  {
   "cell_type": "code",
   "execution_count": 78,
   "metadata": {
    "pycharm": {
     "name": "#%%\n"
    }
   },
   "outputs": [],
   "source": [
    "# Adding Brands of cars\n",
    "X_train['brands'] = df['name'].str.split(' ').str[0]\n",
    "X_train['brands']\n",
    "df_train['brands'] =X_train['brands']\n"
   ]
  },
  {
   "cell_type": "code",
   "execution_count": 79,
   "metadata": {
    "pycharm": {
     "name": "#%%\n"
    }
   },
   "outputs": [
    {
     "data": {
      "text/plain": "<Figure size 1080x576 with 1 Axes>",
      "image/png": "[encoded data removed]"
     },
     "metadata": {
      "needs_background": "light"
     },
     "output_type": "display_data"
    }
   ],
   "source": [
    "# Boxplot of model and price\n",
    "fig, ax = plt.subplots(figsize=(15, 8))\n",
    "order = sorted(list(X_train['brands'].unique()))\n",
    "sns.boxplot(x='brands', y='selling_price', data=X_train, order=order, ax=ax)\n",
    "plt.xticks(rotation=45)\n",
    "plt.title('Price by Brand', fontsize=16)\n",
    "plt.show()"
   ]
  },
  {
   "cell_type": "code",
   "execution_count": 80,
   "metadata": {
    "pycharm": {
     "name": "#%%\n"
    }
   },
   "outputs": [
    {
     "data": {
      "text/plain": "['Manual', 'Automatic']"
     },
     "execution_count": 80,
     "metadata": {},
     "output_type": "execute_result"
    }
   ],
   "source": [
    "list(X_train['transmission'].unique())"
   ]
  },
  {
   "cell_type": "code",
   "execution_count": 81,
   "metadata": {
    "pycharm": {
     "name": "#%%\n"
    }
   },
   "outputs": [
    {
     "data": {
      "text/plain": "['Diesel', 'Petrol', 'LPG', 'CNG', 'Electric']"
     },
     "execution_count": 81,
     "metadata": {},
     "output_type": "execute_result"
    }
   ],
   "source": [
    "list(X_train['fuel'].unique())"
   ]
  },
  {
   "cell_type": "code",
   "execution_count": 82,
   "metadata": {
    "pycharm": {
     "name": "#%%\n"
    }
   },
   "outputs": [
    {
     "data": {
      "text/plain": "<Figure size 1440x432 with 2 Axes>",
      "image/png": "[encoded data removed]"
     },
     "metadata": {
      "needs_background": "light"
     },
     "output_type": "display_data"
    }
   ],
   "source": [
    "# Box plots of price and transmission/ fuel type\n",
    "fig, ax= plt.subplots(1, 2, figsize=(20, 6))\n",
    "trans_order = sorted(list(X_train['transmission'].unique()))\n",
    "sns.boxplot(x='transmission', y='selling_price', data= X_train, order=trans_order, ax=ax[0])\n",
    "ax[0].set_title('Price by Transmission', fontsize=16)\n",
    "ax[0].tick_params('x', labelrotation=45)\n",
    "\n",
    "fuel_order = sorted(list(X_train['fuel'].unique()))\n",
    "sns.boxplot(x='fuel', y='selling_price', data=X_train, order=fuel_order, ax=ax[1])\n",
    "ax[1].set_title('Price by Fuel Type', fontsize= 16)\n",
    "ax[1].tick_params('x', labelrotation=45)\n",
    "plt.show()"
   ]
  },
  {
   "cell_type": "markdown",
   "metadata": {},
   "source": [
    "## 3. Model variations\n",
    "We are going to perform different feature engineering in an order, then fit the linear regression after each engineering step. Root mean square errors are stored and compared."
   ]
  },
  {
   "cell_type": "code",
   "execution_count": 83,
   "metadata": {
    "pycharm": {
     "name": "#%%\n"
    }
   },
   "outputs": [
    {
     "data": {
      "text/plain": "(2861, 8)"
     },
     "execution_count": 83,
     "metadata": {},
     "output_type": "execute_result"
    }
   ],
   "source": [
    "# Copy the data from training and validation set\n",
    "# Clean the data\n",
    "df_train_val = X_training_val.join(y_train_val)\n",
    "df_train_val.shape"
   ]
  },
  {
   "cell_type": "code",
   "execution_count": 84,
   "metadata": {
    "pycharm": {
     "name": "#%%\n"
    }
   },
   "outputs": [],
   "source": [
    "from sklearn.linear_model import LinearRegression\n",
    "from sklearn.metrics import mean_squared_error, r2_score\n",
    "from sklearn.preprocessing import OneHotEncoder, StandardScaler, PolynomialFeatures"
   ]
  },
  {
   "cell_type": "markdown",
   "metadata": {},
   "source": [
    "### Creating Linear Regression Class"
   ]
  },
  {
   "cell_type": "code",
   "execution_count": 85,
   "metadata": {
    "pycharm": {
     "name": "#%%\n"
    }
   },
   "outputs": [],
   "source": [
    "# Create class for feature engineering and model fitting\n",
    "class LR_model:\n",
    "    # Default values\n",
    "    target = 'selling_price'\n",
    "    test_size = 0.25\n",
    "    random_state = 29\n",
    "    skew_cols = ['km_driven', 'age']\n",
    "\n",
    "    def __init__(self, df):\n",
    "        self.train, self.test = train_test_split(df, test_size=LR_model.test_size, random_state=LR_model.random_state, )\n",
    "    def CleanData(self, df):\n",
    "        df = df[df['year'] <= current_date.year]\n",
    "        df['age'] = current_date.year - df['year']\n",
    "        df = df.drop(['year'], axis = 1)\n",
    "        # Adding Brands of cars\n",
    "        df['brands'] = df['name'].str.split(' ').str[0]\n",
    "\n",
    "        return df\n",
    "\n",
    "    def OHE(self, X_train, X_test):\n",
    "        # Performs one-hot encoding and drops the first category\n",
    "        enc = OneHotEncoder(handle_unknown='ignore', sparse=False)\n",
    "\n",
    "        # Filter categorical features only\n",
    "        X_train_cat = X_train.select_dtypes(include=['object'])\n",
    "        X_test_cat = X_test.select_dtypes(include=['object'])\n",
    "\n",
    "        # Fit OHE on training set\n",
    "        # Transform both training set and test set\n",
    "        X_train_enc = enc.fit_transform(X_train_cat)\n",
    "        X_test_enc = enc.transform(X_test_cat)\n",
    "\n",
    "        # Join dummy values with numerical features\n",
    "        X_train_enc_df = pd.DataFrame(X_train_enc,\n",
    "                                      index=X_train.index,\n",
    "                                      columns=enc.get_feature_names(X_train_cat.columns.tolist()))\n",
    "        X_train = X_train_enc_df.join(X_train.select_dtypes(exclude=['object']))\n",
    "\n",
    "        # Drop one column of each category\n",
    "        for col in X_train_cat.columns.tolist():\n",
    "            category_cols = X_train.columns[X_train.columns.str.startswith(col)].tolist()\n",
    "            if len(category_cols) > 1:\n",
    "                X_train = X_train.drop(category_cols[0], axis=1)\n",
    "\n",
    "        # Same steps for test set\n",
    "        X_test_enc_df = pd.DataFrame(X_test_enc,\n",
    "                                      index=X_test.index,\n",
    "                                      columns=enc.get_feature_names(X_test_cat.columns.tolist()))\n",
    "        X_test = X_test_enc_df.join(X_test.select_dtypes(exclude=['object']))\n",
    "\n",
    "        # Drop one column of each category\n",
    "        for col in X_test_cat.columns.tolist():\n",
    "            category_cols = X_test.columns[X_test.columns.str.startswith(col)].tolist()\n",
    "            if len(category_cols) > 1:\n",
    "                X_test = X_test.drop(category_cols[0], axis=1)\n",
    "\n",
    "        return X_train, X_test\n",
    "\n",
    "    def SqrtTrans(self, X_train, X_test):\n",
    "        # Applies square root transformation for skewed features.\n",
    "        X_train[LR_model.skew_cols] = X_train[LR_model.skew_cols].apply(np.sqrt)\n",
    "        X_test[LR_model.skew_cols] = X_test[LR_model.skew_cols].apply(np.sqrt)\n",
    "\n",
    "        return X_train, X_test\n",
    "\n",
    "    def Scale_X(self, X_train, X_test):\n",
    "        # Applies standard scaling for all numerical features\n",
    "\n",
    "        S = StandardScaler()\n",
    "\n",
    "        # Filter number features only (excluding binary value)\n",
    "        float_cols = X_train.columns[~X_train.isin([0, 1]).all()].tolist()\n",
    "\n",
    "        # Fit features in training set and transform to test set\n",
    "        X_train[float_cols] = S.fit_transform(X_train[float_cols])\n",
    "        X_test[float_cols] = S.transform(X_test[float_cols])\n",
    "\n",
    "        return X_train, X_test\n",
    "\n",
    "    def AddPolyFeatures(self, X_train, X_test, degree=None):\n",
    "        # Adds poly features into the dataset\n",
    "        PF = PolynomialFeatures(degree=degree, include_bias=False)\n",
    "\n",
    "        # Filter numerical features only (excluding binary values)\n",
    "        float_cols = X_train.columns[~X_train.isin([0, 1]).all()].tolist()\n",
    "\n",
    "        # Fit features in training set and transform to test set\n",
    "        X_train_pf = PF.fit_transform(X_train[float_cols])\n",
    "        X_test_pf = PF.transform(X_test[float_cols])\n",
    "\n",
    "        # Add non-numerical features back into the transformed training set\n",
    "        X_train_pf_df = pd.DataFrame(X_train_pf,\n",
    "                                     index= X_train.index,\n",
    "                                     columns=PF.get_feature_names(input_features=float_cols))\n",
    "\n",
    "        X_train = X_train_pf_df.join(X_train[X_train.columns[~X_train.columns.isin(float_cols)].tolist()])\n",
    "\n",
    "        # Ad non-numerical featrues back into the transformed test set\n",
    "        X_test_pf_df = pd.DataFrame(X_test_pf,\n",
    "                                    index=X_test.index,\n",
    "                                    columns=PF.get_feature_names(input_features=float_cols))\n",
    "        X_test = X_test_pf_df.join(X_test[X_test.columns[~X_test.columns.isin(float_cols)].tolist()])\n",
    "\n",
    "        return X_train, X_test\n",
    "\n",
    "\n",
    "    def RootMeanSqrtError(self, y_true, y_predict):\n",
    "        return np.sqrt(mean_squared_error(y_true, y_predict))\n",
    "\n",
    "\n",
    "    def FitModel(self, label=None,\n",
    "                 encoding=False,\n",
    "                 squareroot=False,\n",
    "                 scaling=False,\n",
    "                 polynomial=False,\n",
    "                 degree=None):\n",
    "\n",
    "        # Fits linear regression model and returns RMSE of training set and test set\n",
    "        # Split data\n",
    "        train, test = self.CleanData(self.train), self.CleanData(self.test)\n",
    "        X_train, X_test = train.drop(LR_model.target, axis=1), test.drop(LR_model.target, axis=1)\n",
    "        y_train, y_test = train[LR_model.target], test[LR_model.target]\n",
    "\n",
    "        # Perform feature engineering\n",
    "        if encoding:\n",
    "            X_train, X_test = self.OHE(X_train, X_test)\n",
    "\n",
    "        else:\n",
    "            X_train, X_test = X_train.select_dtypes(exclude=['object']), X_test.select_dtypes(exclude=['object'])\n",
    "\n",
    "        if squareroot:\n",
    "            X_train, X_test = self.SqrtTrans(X_train, X_test)\n",
    "\n",
    "        if scaling:\n",
    "            X_train, X_test = self.Scale_X(X_train, X_test)\n",
    "\n",
    "        if polynomial:\n",
    "            X_train, X_test = self.AddPolyFeatures(X_train, X_test, degree)\n",
    "\n",
    "        features_num = X_train.shape[1]\n",
    "        # Fit model and predict the target\n",
    "        LR = LinearRegression()\n",
    "        LR.fit(X_train, y_train)\n",
    "        y_train_pred = LR.predict(X_train)\n",
    "        y_test_pred = LR.predict(X_test)\n",
    "\n",
    "        # Compute Root Mean Squared Error and store in a dictionary\n",
    "        rmse_train = self.RootMeanSqrtError(y_train, y_train_pred)\n",
    "        rmse_test = self.RootMeanSqrtError(y_test, y_test_pred)\n",
    "\n",
    "        r2score = {\n",
    "            'Model' : label,\n",
    "            'Number of Features' : features_num,\n",
    "            'RMSE Train' : rmse_train,\n",
    "            'RMSE Test' : rmse_test\n",
    "        }\n",
    "        return r2score"
   ]
  },
  {
   "cell_type": "markdown",
   "metadata": {},
   "source": [
    "### Apply One-Hot Encoding"
   ]
  },
  {
   "cell_type": "code",
   "execution_count": 86,
   "metadata": {
    "pycharm": {
     "name": "#%%\n"
    }
   },
   "outputs": [
    {
     "data": {
      "text/plain": "              Model  Number of Features     RMSE Train     RMSE Test\n0  Not Encoded(OHC)                   2  476823.969715  4.105871e+05\n1      Encoded(OHC)                1304   82677.006013  1.605189e+12",
      "text/html": "<div>\n<style scoped>\n    .dataframe tbody tr th:only-of-type {\n        vertical-align: middle;\n    }\n\n    .dataframe tbody tr th {\n        vertical-align: top;\n    }\n\n    .dataframe thead th {\n        text-align: right;\n    }\n</style>\n<table border=\"1\" class=\"dataframe\">\n  <thead>\n    <tr style=\"text-align: right;\">\n      <th></th>\n      <th>Model</th>\n      <th>Number of Features</th>\n      <th>RMSE Train</th>\n      <th>RMSE Test</th>\n    </tr>\n  </thead>\n  <tbody>\n    <tr>\n      <th>0</th>\n      <td>Not Encoded(OHC)</td>\n      <td>2</td>\n      <td>476823.969715</td>\n      <td>4.105871e+05</td>\n    </tr>\n    <tr>\n      <th>1</th>\n      <td>Encoded(OHC)</td>\n      <td>1304</td>\n      <td>82677.006013</td>\n      <td>1.605189e+12</td>\n    </tr>\n  </tbody>\n</table>\n</div>"
     },
     "execution_count": 86,
     "metadata": {},
     "output_type": "execute_result"
    }
   ],
   "source": [
    "# Fit LR model in each set and print out R2 score\n",
    "r2score_df = []   # Empty error list to create a data frame later.\n",
    "\n",
    "# Fit non-encoded (ohc) data\n",
    "not_encoded = LR_model(df).FitModel(label='Not Encoded(OHC)')\n",
    "\n",
    "# Fit encoded data (ohc)\n",
    "encoded = LR_model(df).FitModel(label='Encoded(OHC)', encoding=True)\n",
    "\n",
    "# Print R2 Score table\n",
    "r2score_df = pd.DataFrame.from_dict([not_encoded])\n",
    "r2score_df = r2score_df.append(encoded, ignore_index=True)\n",
    "r2score_df"
   ]
  },
  {
   "cell_type": "markdown",
   "metadata": {},
   "source": [
    "Encoded model that has encoded features performs better, which is understandable because it has more information to predict the target. RMSEs of test sets are slightly higher than training sets, which is expected."
   ]
  },
  {
   "cell_type": "markdown",
   "metadata": {},
   "source": [
    "### Apply Square Root Transformation"
   ]
  },
  {
   "cell_type": "code",
   "execution_count": 87,
   "metadata": {
    "pycharm": {
     "name": "#%%\n"
    }
   },
   "outputs": [
    {
     "data": {
      "text/plain": "                       Model  Number of Features     RMSE Train     RMSE Test\n0           Not Encoded(OHC)                   2  476823.969715  4.105871e+05\n1               Encoded(OHC)                1304   82677.006013  1.605189e+12\n2  Not Encoded + Square Root                   2  473673.443900  4.077402e+05\n3      Encoded + Square Root                1304   74376.987854  5.692020e+13",
      "text/html": "<div>\n<style scoped>\n    .dataframe tbody tr th:only-of-type {\n        vertical-align: middle;\n    }\n\n    .dataframe tbody tr th {\n        vertical-align: top;\n    }\n\n    .dataframe thead th {\n        text-align: right;\n    }\n</style>\n<table border=\"1\" class=\"dataframe\">\n  <thead>\n    <tr style=\"text-align: right;\">\n      <th></th>\n      <th>Model</th>\n      <th>Number of Features</th>\n      <th>RMSE Train</th>\n      <th>RMSE Test</th>\n    </tr>\n  </thead>\n  <tbody>\n    <tr>\n      <th>0</th>\n      <td>Not Encoded(OHC)</td>\n      <td>2</td>\n      <td>476823.969715</td>\n      <td>4.105871e+05</td>\n    </tr>\n    <tr>\n      <th>1</th>\n      <td>Encoded(OHC)</td>\n      <td>1304</td>\n      <td>82677.006013</td>\n      <td>1.605189e+12</td>\n    </tr>\n    <tr>\n      <th>2</th>\n      <td>Not Encoded + Square Root</td>\n      <td>2</td>\n      <td>473673.443900</td>\n      <td>4.077402e+05</td>\n    </tr>\n    <tr>\n      <th>3</th>\n      <td>Encoded + Square Root</td>\n      <td>1304</td>\n      <td>74376.987854</td>\n      <td>5.692020e+13</td>\n    </tr>\n  </tbody>\n</table>\n</div>"
     },
     "execution_count": 87,
     "metadata": {},
     "output_type": "execute_result"
    }
   ],
   "source": [
    "# Fit Non-encoded data\n",
    "not_encoded_sqrtroot = LR_model(df).FitModel(label='Not Encoded + Square Root', squareroot=True)\n",
    "\n",
    "# Fit Encodded data\n",
    "encoded_sqrtroot = LR_model(df).FitModel(label='Encoded + Square Root', encoding=True, squareroot=True)\n",
    "\n",
    "# Print r2 table\n",
    "r2score_df = r2score_df.append([not_encoded_sqrtroot, encoded_sqrtroot], ignore_index=True)\n",
    "r2score_df"
   ]
  },
  {
   "cell_type": "markdown",
   "metadata": {},
   "source": [
    "Square Root Transformation improved all models. Encoded and Square Root Transformation applied model is the best now."
   ]
  },
  {
   "cell_type": "markdown",
   "metadata": {},
   "source": [
    "### Apply Standard Scaling\n",
    "Scaling features is a preparation for regularization later. RMSEs of both training set and test set should be in the same interval.\n",
    "From this point, I am going to use encoded data only."
   ]
  },
  {
   "cell_type": "code",
   "execution_count": 88,
   "metadata": {
    "pycharm": {
     "name": "#%%\n"
    }
   },
   "outputs": [
    {
     "data": {
      "text/plain": "                                 Model  Number of Features     RMSE Train  \\\n0                     Not Encoded(OHC)                   2  476823.969715   \n1                         Encoded(OHC)                1304   82677.006013   \n2            Not Encoded + Square Root                   2  473673.443900   \n3                Encoded + Square Root                1304   74376.987854   \n4  Encoded(OHC) + Square Root + Scaled                1304   74394.010788   \n\n      RMSE Test  \n0  4.105871e+05  \n1  1.605189e+12  \n2  4.077402e+05  \n3  5.692020e+13  \n4  9.165199e+16  ",
      "text/html": "<div>\n<style scoped>\n    .dataframe tbody tr th:only-of-type {\n        vertical-align: middle;\n    }\n\n    .dataframe tbody tr th {\n        vertical-align: top;\n    }\n\n    .dataframe thead th {\n        text-align: right;\n    }\n</style>\n<table border=\"1\" class=\"dataframe\">\n  <thead>\n    <tr style=\"text-align: right;\">\n      <th></th>\n      <th>Model</th>\n      <th>Number of Features</th>\n      <th>RMSE Train</th>\n      <th>RMSE Test</th>\n    </tr>\n  </thead>\n  <tbody>\n    <tr>\n      <th>0</th>\n      <td>Not Encoded(OHC)</td>\n      <td>2</td>\n      <td>476823.969715</td>\n      <td>4.105871e+05</td>\n    </tr>\n    <tr>\n      <th>1</th>\n      <td>Encoded(OHC)</td>\n      <td>1304</td>\n      <td>82677.006013</td>\n      <td>1.605189e+12</td>\n    </tr>\n    <tr>\n      <th>2</th>\n      <td>Not Encoded + Square Root</td>\n      <td>2</td>\n      <td>473673.443900</td>\n      <td>4.077402e+05</td>\n    </tr>\n    <tr>\n      <th>3</th>\n      <td>Encoded + Square Root</td>\n      <td>1304</td>\n      <td>74376.987854</td>\n      <td>5.692020e+13</td>\n    </tr>\n    <tr>\n      <th>4</th>\n      <td>Encoded(OHC) + Square Root + Scaled</td>\n      <td>1304</td>\n      <td>74394.010788</td>\n      <td>9.165199e+16</td>\n    </tr>\n  </tbody>\n</table>\n</div>"
     },
     "execution_count": 88,
     "metadata": {},
     "output_type": "execute_result"
    }
   ],
   "source": [
    "# Fit encoded data\n",
    "encoded_sqrtroot_scaled = LR_model(df).FitModel(label='Encoded(OHC) + Square Root + Scaled', encoding=True, squareroot=True, scaling=True)\n",
    "\n",
    "# Print r2 table\n",
    "r2score_df = r2score_df.append(encoded_sqrtroot_scaled, ignore_index=True)\n",
    "r2score_df"
   ]
  },
  {
   "cell_type": "markdown",
   "metadata": {},
   "source": [
    "### Add Polynomial Features\n",
    "\n",
    "As we saw in the pairplots, there is a polynomial relationship between the selling price and age. Try to add polynomial features to the latest model (encoded, square root transformed and scaled)."
   ]
  },
  {
   "cell_type": "code",
   "execution_count": 89,
   "metadata": {
    "pycharm": {
     "name": "#%%\n"
    }
   },
   "outputs": [
    {
     "data": {
      "text/plain": "       Model Number of Features    RMSE Train     RMSE Test\n0   Degree 1               1304  75897.954156  1.962429e+14\n1   Degree 2               1307  73570.040376  3.614721e+15\n2   Degree 3               1311  73185.630695  3.802166e+14\n3   Degree 4               1316  72862.323151  7.339760e+13\n4   Degree 5               1322  72684.913830  1.327380e+06\n5   Degree 6               1329  72511.655526  3.306804e+12\n6   Degree 7               1337  72312.464852  2.218051e+06\n7   Degree 8               1346  72028.031053  4.019416e+09\n8   Degree 9               1356  71613.002292  8.283269e+09\n9  Degree 10               1367  71038.717398  4.364785e+11",
      "text/html": "<div>\n<style scoped>\n    .dataframe tbody tr th:only-of-type {\n        vertical-align: middle;\n    }\n\n    .dataframe tbody tr th {\n        vertical-align: top;\n    }\n\n    .dataframe thead th {\n        text-align: right;\n    }\n</style>\n<table border=\"1\" class=\"dataframe\">\n  <thead>\n    <tr style=\"text-align: right;\">\n      <th></th>\n      <th>Model</th>\n      <th>Number of Features</th>\n      <th>RMSE Train</th>\n      <th>RMSE Test</th>\n    </tr>\n  </thead>\n  <tbody>\n    <tr>\n      <th>0</th>\n      <td>Degree 1</td>\n      <td>1304</td>\n      <td>75897.954156</td>\n      <td>1.962429e+14</td>\n    </tr>\n    <tr>\n      <th>1</th>\n      <td>Degree 2</td>\n      <td>1307</td>\n      <td>73570.040376</td>\n      <td>3.614721e+15</td>\n    </tr>\n    <tr>\n      <th>2</th>\n      <td>Degree 3</td>\n      <td>1311</td>\n      <td>73185.630695</td>\n      <td>3.802166e+14</td>\n    </tr>\n    <tr>\n      <th>3</th>\n      <td>Degree 4</td>\n      <td>1316</td>\n      <td>72862.323151</td>\n      <td>7.339760e+13</td>\n    </tr>\n    <tr>\n      <th>4</th>\n      <td>Degree 5</td>\n      <td>1322</td>\n      <td>72684.913830</td>\n      <td>1.327380e+06</td>\n    </tr>\n    <tr>\n      <th>5</th>\n      <td>Degree 6</td>\n      <td>1329</td>\n      <td>72511.655526</td>\n      <td>3.306804e+12</td>\n    </tr>\n    <tr>\n      <th>6</th>\n      <td>Degree 7</td>\n      <td>1337</td>\n      <td>72312.464852</td>\n      <td>2.218051e+06</td>\n    </tr>\n    <tr>\n      <th>7</th>\n      <td>Degree 8</td>\n      <td>1346</td>\n      <td>72028.031053</td>\n      <td>4.019416e+09</td>\n    </tr>\n    <tr>\n      <th>8</th>\n      <td>Degree 9</td>\n      <td>1356</td>\n      <td>71613.002292</td>\n      <td>8.283269e+09</td>\n    </tr>\n    <tr>\n      <th>9</th>\n      <td>Degree 10</td>\n      <td>1367</td>\n      <td>71038.717398</td>\n      <td>4.364785e+11</td>\n    </tr>\n  </tbody>\n</table>\n</div>"
     },
     "execution_count": 89,
     "metadata": {},
     "output_type": "execute_result"
    }
   ],
   "source": [
    "# Create empty r2 table\n",
    "r2score_pf_df = pd.DataFrame(columns=['Model', 'Number of Features', 'RMSE Train', 'RMSE Test'])\n",
    "\n",
    "# Iterate different degree, 1 to 10\n",
    "for degree in list(range(1, 11)):\n",
    "    r2_score = LR_model(df).FitModel(label='Degree ' + str(degree), encoding=True, scaling=True, polynomial=True, degree=degree)\n",
    "    r2score_pf_df = r2score_pf_df.append(r2_score, ignore_index=True)\n",
    "\n",
    "# Print r2 score\n",
    "r2score_pf_df"
   ]
  },
  {
   "cell_type": "markdown",
   "metadata": {},
   "source": [
    "The best model appears to be the third polynomial degree transformation. As the model becomes more complex, it begins to overfit at degree 4 and above."
   ]
  },
  {
   "cell_type": "markdown",
   "metadata": {},
   "source": [
    "### 4. Cross-Validation and Regularization\n",
    "In this part, I am going to use cv to fit lr model again, and then try tuning the hyperparameter to find the right combination of alpha and polynomial degree for regularization."
   ]
  },
  {
   "cell_type": "code",
   "execution_count": 90,
   "metadata": {
    "pycharm": {
     "name": "#%%\n"
    }
   },
   "outputs": [],
   "source": [
    "# Import libraries\n",
    "from sklearn.linear_model import Lasso, Ridge, ElasticNet\n",
    "from sklearn.model_selection import KFold, cross_val_score\n",
    "from sklearn.preprocessing import FunctionTransformer\n",
    "from sklearn.pipeline import make_pipeline\n",
    "from sklearn_pandas import DataFrameMapper, gen_features"
   ]
  },
  {
   "cell_type": "code",
   "execution_count": 91,
   "metadata": {
    "pycharm": {
     "name": "#%%\n"
    }
   },
   "outputs": [],
   "source": [
    "# 5-fold cv\n",
    "kf = KFold(shuffle=True, random_state=24, n_splits=5)"
   ]
  },
  {
   "cell_type": "code",
   "execution_count": 92,
   "metadata": {
    "pycharm": {
     "name": "#%%\n"
    }
   },
   "outputs": [
    {
     "data": {
      "text/plain": "                                     name  year  selling_price  km_driven  \\\n0                           Maruti 800 AC  2007          60000      70000   \n1                Maruti Wagon R LXI Minor  2007         135000      50000   \n2                    Hyundai Verna 1.6 SX  2012         600000     100000   \n3                  Datsun RediGO T Option  2017         250000      46000   \n4                   Honda Amaze VX i-DTEC  2014         450000     141000   \n...                                   ...   ...            ...        ...   \n3572  Hyundai i20 Magna 1.4 CRDi (Diesel)  2014         409999      80000   \n3573           Hyundai i20 Magna 1.4 CRDi  2014         409999      80000   \n3574                  Maruti 800 AC BSIII  2009         110000      83000   \n3575     Hyundai Creta 1.6 CRDi SX Option  2016         865000      90000   \n3576                     Renault KWID RXT  2016         225000      40000   \n\n        fuel seller_type transmission         owner  \n0     Petrol  Individual       Manual   First Owner  \n1     Petrol  Individual       Manual   First Owner  \n2     Diesel  Individual       Manual   First Owner  \n3     Petrol  Individual       Manual   First Owner  \n4     Diesel  Individual       Manual  Second Owner  \n...      ...         ...          ...           ...  \n3572  Diesel  Individual       Manual  Second Owner  \n3573  Diesel  Individual       Manual  Second Owner  \n3574  Petrol  Individual       Manual  Second Owner  \n3575  Diesel  Individual       Manual   First Owner  \n3576  Petrol  Individual       Manual   First Owner  \n\n[3577 rows x 8 columns]",
      "text/html": "<div>\n<style scoped>\n    .dataframe tbody tr th:only-of-type {\n        vertical-align: middle;\n    }\n\n    .dataframe tbody tr th {\n        vertical-align: top;\n    }\n\n    .dataframe thead th {\n        text-align: right;\n    }\n</style>\n<table border=\"1\" class=\"dataframe\">\n  <thead>\n    <tr style=\"text-align: right;\">\n      <th></th>\n      <th>name</th>\n      <th>year</th>\n      <th>selling_price</th>\n      <th>km_driven</th>\n      <th>fuel</th>\n      <th>seller_type</th>\n      <th>transmission</th>\n      <th>owner</th>\n    </tr>\n  </thead>\n  <tbody>\n    <tr>\n      <th>0</th>\n      <td>Maruti 800 AC</td>\n      <td>2007</td>\n      <td>60000</td>\n      <td>70000</td>\n      <td>Petrol</td>\n      <td>Individual</td>\n      <td>Manual</td>\n      <td>First Owner</td>\n    </tr>\n    <tr>\n      <th>1</th>\n      <td>Maruti Wagon R LXI Minor</td>\n      <td>2007</td>\n      <td>135000</td>\n      <td>50000</td>\n      <td>Petrol</td>\n      <td>Individual</td>\n      <td>Manual</td>\n      <td>First Owner</td>\n    </tr>\n    <tr>\n      <th>2</th>\n      <td>Hyundai Verna 1.6 SX</td>\n      <td>2012</td>\n      <td>600000</td>\n      <td>100000</td>\n      <td>Diesel</td>\n      <td>Individual</td>\n      <td>Manual</td>\n      <td>First Owner</td>\n    </tr>\n    <tr>\n      <th>3</th>\n      <td>Datsun RediGO T Option</td>\n      <td>2017</td>\n      <td>250000</td>\n      <td>46000</td>\n      <td>Petrol</td>\n      <td>Individual</td>\n      <td>Manual</td>\n      <td>First Owner</td>\n    </tr>\n    <tr>\n      <th>4</th>\n      <td>Honda Amaze VX i-DTEC</td>\n      <td>2014</td>\n      <td>450000</td>\n      <td>141000</td>\n      <td>Diesel</td>\n      <td>Individual</td>\n      <td>Manual</td>\n      <td>Second Owner</td>\n    </tr>\n    <tr>\n      <th>...</th>\n      <td>...</td>\n      <td>...</td>\n      <td>...</td>\n      <td>...</td>\n      <td>...</td>\n      <td>...</td>\n      <td>...</td>\n      <td>...</td>\n    </tr>\n    <tr>\n      <th>3572</th>\n      <td>Hyundai i20 Magna 1.4 CRDi (Diesel)</td>\n      <td>2014</td>\n      <td>409999</td>\n      <td>80000</td>\n      <td>Diesel</td>\n      <td>Individual</td>\n      <td>Manual</td>\n      <td>Second Owner</td>\n    </tr>\n    <tr>\n      <th>3573</th>\n      <td>Hyundai i20 Magna 1.4 CRDi</td>\n      <td>2014</td>\n      <td>409999</td>\n      <td>80000</td>\n      <td>Diesel</td>\n      <td>Individual</td>\n      <td>Manual</td>\n      <td>Second Owner</td>\n    </tr>\n    <tr>\n      <th>3574</th>\n      <td>Maruti 800 AC BSIII</td>\n      <td>2009</td>\n      <td>110000</td>\n      <td>83000</td>\n      <td>Petrol</td>\n      <td>Individual</td>\n      <td>Manual</td>\n      <td>Second Owner</td>\n    </tr>\n    <tr>\n      <th>3575</th>\n      <td>Hyundai Creta 1.6 CRDi SX Option</td>\n      <td>2016</td>\n      <td>865000</td>\n      <td>90000</td>\n      <td>Diesel</td>\n      <td>Individual</td>\n      <td>Manual</td>\n      <td>First Owner</td>\n    </tr>\n    <tr>\n      <th>3576</th>\n      <td>Renault KWID RXT</td>\n      <td>2016</td>\n      <td>225000</td>\n      <td>40000</td>\n      <td>Petrol</td>\n      <td>Individual</td>\n      <td>Manual</td>\n      <td>First Owner</td>\n    </tr>\n  </tbody>\n</table>\n<p>3577 rows × 8 columns</p>\n</div>"
     },
     "execution_count": 92,
     "metadata": {},
     "output_type": "execute_result"
    }
   ],
   "source": [
    "df"
   ]
  },
  {
   "cell_type": "code",
   "execution_count": 93,
   "metadata": {
    "pycharm": {
     "name": "#%%\n"
    }
   },
   "outputs": [],
   "source": [
    "df = df[df['year'] <= current_date.year]\n",
    "df['age'] = current_date.year - df['year']\n",
    "df = df.drop(['year'], axis=1)\n",
    "\n",
    "df['brand'] = df['name'].str.split('').str[0]\n",
    "\n",
    "X = df.drop('selling_price', axis=1)\n",
    "y = df['selling_price']"
   ]
  },
  {
   "cell_type": "code",
   "execution_count": 94,
   "metadata": {
    "pycharm": {
     "name": "#%%\n"
    }
   },
   "outputs": [],
   "source": [
    "# Create a class for data pipeline\n",
    "class XPipe:\n",
    "    # Skew features observed from the EDA\n",
    "    skew_cols = ['km_driven', 'age']\n",
    "\n",
    "    def __init__(self, X):\n",
    "        self.category_cols = X.select_dtypes(include=['object']).columns.tolist()\n",
    "        self.num_cols = X.select_dtypes(exclude=['object']).columns.tolist()\n",
    "\n",
    "    def DropFirst(self, category_values):\n",
    "        # Drops one category after OHC\n",
    "        dummy_df = pd.DataFrame(category_values)\n",
    "        dummy_df = dummy_df.drop(0, axis=1)\n",
    "\n",
    "        return dummy_df.values\n",
    "\n",
    "    def SqrtTrans(self, num_values):\n",
    "        # Performs square root transformation to skewed features\n",
    "        num_df = pd.DataFrame(num_values, columns=self.num_cols)\n",
    "        num_df[XPipe.skew_cols] = num_df[XPipe.skew_cols].apply(np.sqrt)\n",
    "\n",
    "        return num_df.values\n",
    "\n",
    "    def ModelPipe(self, model, degree=2):\n",
    "        # Returns a data pipeline\n",
    "        category_list = [[col] for col in self.category_cols]\n",
    "        category_features = gen_features(\n",
    "            columns=category_list,\n",
    "            classes=[{'class': OneHotEncoder, 'handle_unknown': 'ignore','sparse': False},\n",
    "                     {'class': FunctionTransformer, 'func': self.DropFirst}]\n",
    "        )\n",
    "        mapper = DataFrameMapper((category_features) + [\n",
    "            (self.num_cols, [FunctionTransformer(self.SqrtTrans),\n",
    "                             StandardScaler(),\n",
    "                             PolynomialFeatures(degree=degree, include_bias=False)])\n",
    "        ])\n",
    "\n",
    "        return make_pipeline(mapper, model)"
   ]
  },
  {
   "cell_type": "code",
   "execution_count": 95,
   "metadata": {
    "pycharm": {
     "name": "#%%\n"
    }
   },
   "outputs": [
    {
     "data": {
      "text/plain": "Pipeline(steps=[('dataframemapper',\n                 DataFrameMapper(drop_cols=[],\n                                 features=[(['name'],\n                                            [OneHotEncoder(handle_unknown='ignore',\n                                                           sparse=False),\n                                             FunctionTransformer(func=<bound method XPipe.DropFirst of <__main__.XPipe object at 0x000001BF4BF50D90>>)],\n                                            {}),\n                                           (['fuel'],\n                                            [OneHotEncoder(handle_unknown='ignore',\n                                                           sparse=False),\n                                             FunctionTransformer(func=<bound method XPipe.Dro...\n                                            [OneHotEncoder(handle_unknown='ignore',\n                                                           sparse=False),\n                                             FunctionTransformer(func=<bound method XPipe.DropFirst of <__main__.XPipe object at 0x000001BF4BF50D90>>)],\n                                            {}),\n                                           (['km_driven', 'age'],\n                                            [FunctionTransformer(func=<bound method XPipe.SqrtTrans of <__main__.XPipe object at 0x000001BF4BF50D90>>),\n                                             StandardScaler(),\n                                             PolynomialFeatures(include_bias=False)])])),\n                ('linearregression', LinearRegression())])"
     },
     "execution_count": 95,
     "metadata": {},
     "output_type": "execute_result"
    }
   ],
   "source": [
    "XPipe(X).ModelPipe(LinearRegression())"
   ]
  },
  {
   "cell_type": "markdown",
   "metadata": {},
   "source": [
    "Let's take a look at each model individually: linear regression, Lasso regression, Ridge regression, and Elastic Net regression. The average root mean squared error of each model will be used to evaluate it (from 5 folds)."
   ]
  },
  {
   "cell_type": "code",
   "execution_count": 96,
   "metadata": {
    "pycharm": {
     "name": "#%%\n"
    }
   },
   "outputs": [],
   "source": [
    "# Create an empty dict to store metrics of different models\n",
    "metrics = {}"
   ]
  },
  {
   "cell_type": "markdown",
   "metadata": {},
   "source": [
    "### Linear Regression\n",
    "In the train test split part, adding the third degree polynomial features returns the best model.\n",
    "Let's see if cross-validation returns different results."
   ]
  },
  {
   "cell_type": "code",
   "execution_count": 97,
   "metadata": {
    "pycharm": {
     "name": "#%%\n"
    }
   },
   "outputs": [
    {
     "data": {
      "text/plain": "            Average RMSE\nDegree = 6  1.186527e+12\nDegree = 5  4.025585e+13\nDegree = 4  9.080557e+13\nDegree = 3  2.790672e+14\nDegree = 2  4.240173e+15\nDegree = 1  3.452036e+16",
      "text/html": "<div>\n<style scoped>\n    .dataframe tbody tr th:only-of-type {\n        vertical-align: middle;\n    }\n\n    .dataframe tbody tr th {\n        vertical-align: top;\n    }\n\n    .dataframe thead th {\n        text-align: right;\n    }\n</style>\n<table border=\"1\" class=\"dataframe\">\n  <thead>\n    <tr style=\"text-align: right;\">\n      <th></th>\n      <th>Average RMSE</th>\n    </tr>\n  </thead>\n  <tbody>\n    <tr>\n      <th>Degree = 6</th>\n      <td>1.186527e+12</td>\n    </tr>\n    <tr>\n      <th>Degree = 5</th>\n      <td>4.025585e+13</td>\n    </tr>\n    <tr>\n      <th>Degree = 4</th>\n      <td>9.080557e+13</td>\n    </tr>\n    <tr>\n      <th>Degree = 3</th>\n      <td>2.790672e+14</td>\n    </tr>\n    <tr>\n      <th>Degree = 2</th>\n      <td>4.240173e+15</td>\n    </tr>\n    <tr>\n      <th>Degree = 1</th>\n      <td>3.452036e+16</td>\n    </tr>\n  </tbody>\n</table>\n</div>"
     },
     "execution_count": 97,
     "metadata": {},
     "output_type": "execute_result"
    }
   ],
   "source": [
    "# Empty dict to add in metrics\n",
    "lr_scores = {}\n",
    "\n",
    "# Iterate over different degrees, 1 to 6\n",
    "for degree in list(range(1, 7)):\n",
    "    score = cross_val_score(XPipe(X).ModelPipe(LinearRegression(), degree= degree),\n",
    "                            X, y, cv=kf, scoring='neg_mean_squared_error')\n",
    "    lr_scores[f'Degree = {degree}'] = np.mean(np.sqrt(-score))\n",
    "\n",
    "# Create an error table and print\n",
    "lr_rmse = pd.DataFrame.from_dict(lr_scores, orient='index', columns=['Average RMSE']).sort_values('Average RMSE')\n",
    "lr_rmse"
   ]
  },
  {
   "cell_type": "markdown",
   "metadata": {},
   "source": [
    "The sixth polynomial degree model returns the lowest RMSE on average but third one is optimum against to the overfit. Let's see the R2 score in each fold."
   ]
  },
  {
   "cell_type": "code",
   "execution_count": 98,
   "metadata": {
    "pycharm": {
     "name": "#%%\n"
    }
   },
   "outputs": [
    {
     "data": {
      "text/plain": "array([-9.12135357e+13, -9.36706929e+17, -5.00041638e+17, -8.90114240e+17,\n        6.04317722e-01])"
     },
     "execution_count": 98,
     "metadata": {},
     "output_type": "execute_result"
    }
   ],
   "source": [
    "# Calculating average R squared\n",
    "lr_r2_scores = cross_val_score(XPipe(X).ModelPipe(LinearRegression(), degree=3), X, y, cv=kf)\n",
    "lr_r2_scores"
   ]
  },
  {
   "cell_type": "code",
   "execution_count": 99,
   "metadata": {
    "pycharm": {
     "name": "#%%\n"
    }
   },
   "outputs": [
    {
     "data": {
      "text/plain": "{'Average RMSE': [1186526570113.0645], 'Average R2': [-4.653908040504409e+17]}"
     },
     "execution_count": 99,
     "metadata": {},
     "output_type": "execute_result"
    }
   ],
   "source": [
    "# Store the metrics\n",
    "metrics['Average RMSE'] = [lr_rmse['Average RMSE'].values[0]]\n",
    "metrics['Average R2'] = [np.mean(lr_r2_scores)]\n",
    "metrics"
   ]
  },
  {
   "cell_type": "markdown",
   "metadata": {},
   "source": [
    "### Ridge Regression (L2)\n"
   ]
  },
  {
   "cell_type": "code",
   "execution_count": 100,
   "metadata": {
    "pycharm": {
     "name": "#%%\n"
    }
   },
   "outputs": [
    {
     "data": {
      "text/plain": "                          Average RMSE\nDegree = 3, alpha =0.1   312957.077696\nDegree = 3, alpha =0.05  313329.655286\nDegree = 2, alpha =0.1   313399.716398\nDegree = 3, alpha =0.3   313604.687431\nDegree = 1, alpha =0.1   313616.424846",
      "text/html": "<div>\n<style scoped>\n    .dataframe tbody tr th:only-of-type {\n        vertical-align: middle;\n    }\n\n    .dataframe tbody tr th {\n        vertical-align: top;\n    }\n\n    .dataframe thead th {\n        text-align: right;\n    }\n</style>\n<table border=\"1\" class=\"dataframe\">\n  <thead>\n    <tr style=\"text-align: right;\">\n      <th></th>\n      <th>Average RMSE</th>\n    </tr>\n  </thead>\n  <tbody>\n    <tr>\n      <th>Degree = 3, alpha =0.1</th>\n      <td>312957.077696</td>\n    </tr>\n    <tr>\n      <th>Degree = 3, alpha =0.05</th>\n      <td>313329.655286</td>\n    </tr>\n    <tr>\n      <th>Degree = 2, alpha =0.1</th>\n      <td>313399.716398</td>\n    </tr>\n    <tr>\n      <th>Degree = 3, alpha =0.3</th>\n      <td>313604.687431</td>\n    </tr>\n    <tr>\n      <th>Degree = 1, alpha =0.1</th>\n      <td>313616.424846</td>\n    </tr>\n  </tbody>\n</table>\n</div>"
     },
     "execution_count": 100,
     "metadata": {},
     "output_type": "execute_result"
    }
   ],
   "source": [
    "# Empty dict. to add in metrics\n",
    "ridge_scores = {}\n",
    "\n",
    "# Iterate over different alphas\n",
    "for degree in [1, 2, 3]:\n",
    "    for alpha in [0.005, 0.01, 0.05, 0.1, 0.3, 1, 3, 5, 10 ]:\n",
    "        score = cross_val_score(XPipe(X)\n",
    "                                .ModelPipe(Ridge(alpha= alpha, max_iter=100000), degree=degree),\n",
    "                                X, y, cv=kf, scoring='neg_mean_squared_error')\n",
    "        ridge_scores[f'Degree = {degree}, alpha ={alpha}'] = np.mean(np.sqrt(-score))\n",
    "\n",
    "# Create an error table and print it\n",
    "ridge_rmse = pd.DataFrame.from_dict(ridge_scores, orient='index', columns=['Average RMSE']).sort_values('Average RMSE')\n",
    "ridge_rmse.head(5)"
   ]
  },
  {
   "cell_type": "code",
   "execution_count": 101,
   "metadata": {
    "pycharm": {
     "name": "#%%\n"
    }
   },
   "outputs": [
    {
     "data": {
      "text/plain": "array([0.58307492, 0.6237501 , 0.74620483, 0.48933655, 0.64041719])"
     },
     "execution_count": 101,
     "metadata": {},
     "output_type": "execute_result"
    }
   ],
   "source": [
    "# Calculate average R squared\n",
    "ridge_r2_scores = cross_val_score(XPipe(X)\n",
    "                                  .ModelPipe(Ridge(alpha=0.01, max_iter=100000), degree=3),\n",
    "                                  X, y, cv=kf)\n",
    "ridge_r2_scores"
   ]
  },
  {
   "cell_type": "code",
   "execution_count": 102,
   "metadata": {
    "pycharm": {
     "name": "#%%\n"
    }
   },
   "outputs": [],
   "source": [
    "# Store the metrics\n",
    "metrics['Average RMSE'].append(ridge_rmse['Average RMSE'].values[0])\n",
    "metrics['Average R2'].append(np.mean(ridge_r2_scores))"
   ]
  },
  {
   "cell_type": "markdown",
   "metadata": {},
   "source": [
    "### Elastic Net Regression (L1 + L2)"
   ]
  },
  {
   "cell_type": "code",
   "execution_count": 103,
   "metadata": {
    "pycharm": {
     "name": "#%%\n"
    }
   },
   "outputs": [
    {
     "data": {
      "text/plain": "                            Average RMSE\nDegree = 2, alpha = 0.005  349699.423031\nDegree = 3, alpha = 0.005  349923.539669\nDegree = 1, alpha = 0.005  350268.358458\nDegree = 2, alpha = 0.01   358416.076281\nDegree = 3, alpha = 0.01   358604.048108",
      "text/html": "<div>\n<style scoped>\n    .dataframe tbody tr th:only-of-type {\n        vertical-align: middle;\n    }\n\n    .dataframe tbody tr th {\n        vertical-align: top;\n    }\n\n    .dataframe thead th {\n        text-align: right;\n    }\n</style>\n<table border=\"1\" class=\"dataframe\">\n  <thead>\n    <tr style=\"text-align: right;\">\n      <th></th>\n      <th>Average RMSE</th>\n    </tr>\n  </thead>\n  <tbody>\n    <tr>\n      <th>Degree = 2, alpha = 0.005</th>\n      <td>349699.423031</td>\n    </tr>\n    <tr>\n      <th>Degree = 3, alpha = 0.005</th>\n      <td>349923.539669</td>\n    </tr>\n    <tr>\n      <th>Degree = 1, alpha = 0.005</th>\n      <td>350268.358458</td>\n    </tr>\n    <tr>\n      <th>Degree = 2, alpha = 0.01</th>\n      <td>358416.076281</td>\n    </tr>\n    <tr>\n      <th>Degree = 3, alpha = 0.01</th>\n      <td>358604.048108</td>\n    </tr>\n  </tbody>\n</table>\n</div>"
     },
     "execution_count": 103,
     "metadata": {},
     "output_type": "execute_result"
    }
   ],
   "source": [
    "# Blank dict to add in metrics\n",
    "elasticnet_scores = {}\n",
    "\n",
    "# Iterate over different alphas\n",
    "for degree in [1, 2, 3]:\n",
    "    for alpha in [0.005, 0.01, 0.05, 0.1, 0.3, 1, 3, 5, 10 ]:\n",
    "        score = cross_val_score(XPipe(X)\n",
    "                                .ModelPipe(ElasticNet(alpha=alpha, max_iter=100000), degree=degree),\n",
    "                                X, y, cv=kf, scoring='neg_mean_squared_error')\n",
    "        elasticnet_scores[f'Degree = {degree}, alpha = {alpha}'] = np.mean(np.sqrt(-score))\n",
    "\n",
    "# Create an error table and print\n",
    "elasticnet_rmse = pd.DataFrame.from_dict(elasticnet_scores, orient='index', columns=['Average RMSE']).sort_values('Average RMSE')\n",
    "elasticnet_rmse.head(5)"
   ]
  },
  {
   "cell_type": "code",
   "execution_count": 104,
   "metadata": {
    "pycharm": {
     "name": "#%%\n"
    }
   },
   "outputs": [
    {
     "data": {
      "text/plain": "array([0.11860381, 0.17032805, 0.16915852, 0.09026808, 0.14481403])"
     },
     "execution_count": 104,
     "metadata": {},
     "output_type": "execute_result"
    }
   ],
   "source": [
    "# Calculate average R squared\n",
    "elasticnet_r2_scores = cross_val_score(XPipe(X)\n",
    "                                       .ModelPipe(ElasticNet(alpha=alpha, max_iter=100000), degree=degree),\n",
    "                                       X, y, cv=kf)\n",
    "elasticnet_r2_scores"
   ]
  },
  {
   "cell_type": "code",
   "execution_count": 107,
   "metadata": {
    "pycharm": {
     "name": "#%%\n"
    }
   },
   "outputs": [
    {
     "data": {
      "text/plain": "{'Average RMSE': [1186526570113.0645,\n  312957.07769563404,\n  349699.42303086416,\n  349699.42303086416],\n 'Average R2': [-4.653908040504409e+17,\n  0.6165567189300541,\n  0.1386344974950712,\n  0.1386344974950712]}"
     },
     "execution_count": 107,
     "metadata": {},
     "output_type": "execute_result"
    }
   ],
   "source": [
    "# Store the metrics\n",
    "metrics['Average RMSE'].append(elasticnet_rmse['Average RMSE'].values[0])\n",
    "metrics['Average R2'].append(np.mean(elasticnet_r2_scores))\n",
    "metrics"
   ]
  },
  {
   "cell_type": "markdown",
   "metadata": {},
   "source": [
    "This model performs the worst."
   ]
  },
  {
   "cell_type": "markdown",
   "metadata": {},
   "source": [
    "### Lasso Regression (L1)\n",
    "Find a combination of alpha and polynomial degree of Lasso Reg."
   ]
  },
  {
   "cell_type": "code",
   "execution_count": 110,
   "outputs": [
    {
     "data": {
      "text/plain": "array([-1.16552351e+11, -1.01431469e+11, -6.38607845e+10, -2.36602205e+11,\n       -8.93136176e+10])"
     },
     "execution_count": 108,
     "metadata": {},
     "output_type": "execute_result"
    },
    {
     "data": {
      "text/plain": "array([-1.16552351e+11, -1.01431469e+11, -6.38607845e+10, -2.36602205e+11,\n       -8.93136176e+10])"
     },
     "execution_count": 109,
     "metadata": {},
     "output_type": "execute_result"
    },
    {
     "data": {
      "text/plain": "array([-1.16552351e+11, -1.01431469e+11, -6.38607845e+10, -2.36602205e+11,\n       -8.93136176e+10])"
     },
     "execution_count": 110,
     "metadata": {},
     "output_type": "execute_result"
    }
   ],
   "source": [
    "score = cross_val_score(XPipe(X).ModelPipe(Lasso(alpha=0.05, max_iter=100000), degree=3),\n",
    "X, y, cv=kf, scoring='neg_mean_squared_error')\n",
    "score"
   ],
   "metadata": {
    "collapsed": false,
    "pycharm": {
     "name": "#%%\n"
    }
   }
  },
  {
   "cell_type": "code",
   "execution_count": null,
   "metadata": {
    "pycharm": {
     "name": "#%%\n",
     "is_executing": true
    }
   },
   "outputs": [],
   "source": [
    "# Blank dictionary to add in metrics\n",
    "lasso_scores = {}\n",
    "\n",
    "# Iterate over different alphas\n",
    "for degree in [1, 2, 3]:\n",
    "    for alpha in [0.01, 0.05, 0.1]:\n",
    "        score = cross_val_score(XPipe(X)\n",
    "                                .ModelPipe(Lasso(alpha=alpha, max_iter=100000), degree=degree),\n",
    "                                X, y, cv=kf, scoring='neg_mean_squared_error')\n",
    "\n",
    "        lasso_scores [f'Degree = {degree}, alpha = {alpha}'] = np.mean(np.sqrt(-score))\n",
    "\n",
    "# Create an error table and print it out (first 5 rows)\n",
    "lasso_rmse = pd.DataFrame.from_dict(lasso_scores , orient='index', columns=['Average RMSE']).sort_values('Average RMSE')\n",
    "lasso_rmse.head(5)"
   ]
  },
  {
   "cell_type": "code",
   "execution_count": null,
   "metadata": {
    "pycharm": {
     "name": "#%%\n",
     "is_executing": true
    }
   },
   "outputs": [],
   "source": [
    "# Calculate average R squared\n",
    "lasso_r2_scores = cross_val_score(XPipe(X)\n",
    "                                  .ModelPipe(Lasso(alpha=0.3, max_iter=100000), degree=3),\n",
    "                                  X, y, cv=kf)\n",
    "lasso_r2_scores"
   ]
  },
  {
   "cell_type": "code",
   "execution_count": null,
   "metadata": {
    "pycharm": {
     "name": "#%%\n",
     "is_executing": true
    }
   },
   "outputs": [],
   "source": [
    "metrics['Average RMSE'].append(lasso_rmse['Average RMSE'].values[0])\n",
    "metrics['Average R2'].append(np.mean(lasso_r2_scores))"
   ]
  },
  {
   "cell_type": "markdown",
   "metadata": {},
   "source": [
    "The Lasso model outperforms the Linear model by a small margin. Despite the high multicollinearity among predictors, I highly doubt it shrank any coefficient."
   ]
  },
  {
   "cell_type": "markdown",
   "metadata": {},
   "source": [
    "### Comparing the metrics"
   ]
  },
  {
   "cell_type": "code",
   "execution_count": null,
   "metadata": {
    "pycharm": {
     "name": "#%%\n"
    }
   },
   "outputs": [],
   "source": [
    "# Create a comparison table\n",
    "metrics['Model'] = ['Linear', 'Lasso', 'Ridge', 'Elastic Net']\n",
    "pd.DataFrame.from_dict(metrics).set_index('Model').sort_values('Average RMSE')"
   ]
  },
  {
   "cell_type": "markdown",
   "metadata": {},
   "source": [
    "Lasso is the best model even though the metrics among these models are not significantly different."
   ]
  },
  {
   "cell_type": "markdown",
   "metadata": {},
   "source": [
    "### 5. Predict on the test set\n",
    "In this part, I am going to use four models to make prediction on the unseen test set."
   ]
  },
  {
   "cell_type": "code",
   "execution_count": null,
   "metadata": {
    "pycharm": {
     "name": "#%%\n"
    }
   },
   "outputs": [],
   "source": [
    "\n",
    "train, test = train_test_split(df, test_size=0.2, random_state=47)\n",
    "# Keep the original data\n",
    "train_df, test_df = train.copy(), test.copy()"
   ]
  },
  {
   "cell_type": "code",
   "execution_count": null,
   "metadata": {
    "pycharm": {
     "name": "#%%\n"
    }
   },
   "outputs": [],
   "source": [
    "# Clean the training set\n",
    "X_train = train_df.drop('selling_price', axis=1)\n",
    "y_train = train_df['selling_price']"
   ]
  },
  {
   "cell_type": "code",
   "execution_count": null,
   "metadata": {
    "pycharm": {
     "name": "#%%\n"
    }
   },
   "outputs": [],
   "source": [
    "# Clean the test set\n",
    "test_df = test_df[test_df['year'] <= current_date.year]\n",
    "test_df['age'] = current_date.year - test_df['year']\n",
    "test_df = test_df.drop(['year'], axis = 1)\n",
    "# Adding Brands of cars\n",
    "test_df['brands'] = test_df['name'].str.split(' ').str[0]\n",
    "\n",
    "X_test = test_df.drop('selling_price', axis=1)\n",
    "y_test = test_df['selling_price']"
   ]
  },
  {
   "cell_type": "markdown",
   "metadata": {},
   "source": [
    "### Scatter Plots From Four Models"
   ]
  },
  {
   "cell_type": "code",
   "execution_count": null,
   "metadata": {
    "pycharm": {
     "name": "#%%\n"
    }
   },
   "outputs": [],
   "source": [
    "# Make prediction on the test set and plot four scatter plots seperately.\n",
    "\n",
    "fig, axes= plt.subplots(2, 2, figsize=(14, 14), sharex=True, sharey=True)\n",
    "fig.text(0.5, 0.07, 'Predicted Price', ha='center', fontdict={'size': 16})\n",
    "fig.text(0.07, 'Actual Price', va='center', rotation='vertical', fontdict={'size': 16})\n",
    "\n",
    "models = [LinearRegression(), Lasso(alpha=0.3, max_iter=100000),\n",
    "          Ridge(alpha=0.1, max_iter=100000), ElasticNet(alpha=0.005, max_iter=100000)]\n",
    "\n",
    "labels = ['Linear', 'Lasso', 'Ridge', 'Elastic Net']\n",
    "\n",
    "for i, ax in enumerate(axes.flatten()):\n",
    "    y_pred = (XPipe(X_train)\n",
    "              .ModelPipe(models[i], degree=3)\n",
    "              .fit(X_train, y_train)\n",
    "              .predict(X_test))\n",
    "\n",
    "    r2 = r2_score(y_test, y_pred)\n",
    "\n",
    "    ax.plot(y_test, y_pred, marker='o', ls='', ms=3.0)\n",
    "    ax.set(title=f'{labels[i]} Regression R2: {r2}')\n"
   ]
  },
  {
   "cell_type": "markdown",
   "metadata": {},
   "source": [
    "Lasso Regression has the best prediction on the test set. All these models can explain the target around 87% - 88%."
   ]
  },
  {
   "cell_type": "code",
   "execution_count": null,
   "metadata": {
    "pycharm": {
     "name": "#%%\n"
    }
   },
   "outputs": [],
   "source": [
    "# Make prediction on the test set and plot one combined scatter plot\n",
    "\n",
    "fig = plt.figure(figsize=(6, 6))\n",
    "ax = plt.axes()\n",
    "\n",
    "models = [ElasticNet(alpha=0.005, max_iter=100000), LinearRegression(),\n",
    "          Ridge(alpha=0.005, max_iter=100000), Lasso(alpha=0.3, max_iter=100000)]\n",
    "\n",
    "labels = ['Elastic Net', 'Linear', 'Ridge', 'Lasso']\n",
    "\n",
    "for model, label in zip(models, labels):\n",
    "    y_pred = (XPipe(X_train)\n",
    "              .ModelPipe(model, degree=degree)\n",
    "              .fit(X_train, y_train)\n",
    "              .predict(X_test))\n",
    "    ax.plot(y_test, y_pred, marker='o', ls='', ms=3.0, label=label)\n",
    "\n",
    "legend = plt.legend(frameons=True)\n",
    "legend.get_frame().set_edgecolor('black')\n",
    "legend.get_frame().set_linewidth(1.0)\n",
    "\n",
    "ax.set(xlabel='Actual Price',\n",
    "       ylabel='Predicted Price',\n",
    "       title='Regression Results')"
   ]
  },
  {
   "cell_type": "markdown",
   "metadata": {},
   "source": [
    "As expected, these plots are nearly identical"
   ]
  },
  {
   "cell_type": "markdown",
   "metadata": {},
   "source": [
    "### Feature importance\n",
    "As shown above, the Lasso Regression is our best model. Let's see which feature is the most important in the model."
   ]
  },
  {
   "cell_type": "code",
   "execution_count": null,
   "metadata": {
    "pycharm": {
     "name": "#%%\n"
    }
   },
   "outputs": [],
   "source": [
    "# Checking data pipeline\n",
    "estimator = XPipe(X_train).ModelPipe(Lasso(alpha=0.3, max_iter=100000), degree=3)\n",
    "estimator.fit(X_train, y_train)"
   ]
  },
  {
   "cell_type": "code",
   "execution_count": null,
   "metadata": {
    "pycharm": {
     "name": "#%%\n"
    }
   },
   "outputs": [],
   "source": [
    " # Get the tranformer list and feature names\n",
    "transformers = estimator.named_steps['dataframemapper'].features\n",
    "category_cols = XPipe(X_train).category_cols\n",
    "num_cols = XPipe(X_train).num_cols"
   ]
  },
  {
   "cell_type": "code",
   "execution_count": null,
   "metadata": {
    "pycharm": {
     "name": "#%%\n"
    }
   },
   "outputs": [],
   "source": [
    "# Iterate over each transformer and get the feature names\n",
    "feature_names = []\n",
    "for feature in transformers:\n",
    "    for col in category_cols:\n",
    "        if feature[0] == [col]:\n",
    "            names = feature[1][0].get_feature_names([col]).tolist()\n",
    "            del names[0]\n",
    "            feature_names.append(names)\n",
    "    if feature[0] == num_cols:\n",
    "        names = feature[1][2].get_feature_names(num_cols)\n",
    "        feature_names.append(names)\n",
    "    else:\n",
    "        pass\n",
    "\n",
    "features = [name for names in feature_names for name in names]"
   ]
  },
  {
   "cell_type": "code",
   "execution_count": null,
   "metadata": {
    "pycharm": {
     "name": "#%%\n"
    }
   },
   "outputs": [],
   "source": [
    "beta_coef = estimator.named_steps['lasso'].coef_\n",
    "print(f'Number of estimates: {len(beta_coef)}')\n",
    "print(f'Number of features: {len(features)}')"
   ]
  },
  {
   "cell_type": "code",
   "execution_count": null,
   "metadata": {
    "pycharm": {
     "name": "#%%\n"
    }
   },
   "outputs": [],
   "source": [
    "# Print out most importance features by the magnitude of the estimates\n",
    "df_importances = pd.DataFrame(zip(features, beta_coef), columns=['feature', 'estimate'])\n",
    "df_importances = df_importances.sort_values(by='estimate', ascending=False).reset_index(drop=True)\n",
    "print(df_importances.head())\n",
    "print('-'*50)\n",
    "print(df_importances.tail())"
   ]
  },
  {
   "cell_type": "code",
   "execution_count": null,
   "metadata": {
    "pycharm": {
     "name": "#%%\n"
    }
   },
   "outputs": [],
   "source": [
    "# If lasso shrank any coeff\n",
    "any(df_importances['estimate'] == 0)"
   ]
  },
  {
   "cell_type": "code",
   "execution_count": null,
   "metadata": {
    "pycharm": {
     "name": "#%%\n"
    }
   },
   "outputs": [],
   "source": [
    "# Features that Lasso eliminated\n",
    "df_importances[df_importances['estimate'] == 0]"
   ]
  },
  {
   "cell_type": "markdown",
   "metadata": {},
   "source": [
    "Looking back at the box plots of price by brand and fuel type, we can see that these shrunk features are rare categories in our data set (or their prices do not vary much). I would say Lasso did a good job to eliminate them."
   ]
  },
  {
   "cell_type": "code",
   "execution_count": null,
   "metadata": {
    "pycharm": {
     "name": "#%%\n"
    }
   },
   "outputs": [],
   "source": [
    "# Visualize the feature importance\n",
    "df_importances.set_index('feature').plot(kind='bar', legend=None, figsize=(25,10))\n",
    "plt.title('Feature Importance', fontsize=16);"
   ]
  },
  {
   "cell_type": "markdown",
   "metadata": {},
   "source": [
    "These are all derived from the categorical feature - brand. Among numerical features, age and mileage have the strongest predictive power. Most interaction terms and polynomial features have low estimates in comparison to others.\n"
   ]
  },
  {
   "cell_type": "markdown",
   "metadata": {},
   "source": [
    "### 6. Conclusion\n",
    "\n",
    "This investigation demonstrates that feature engineering can have a significant impact on model performance, and that cross-validation should be favored over train-test-split for model evaluation if the data is sufficiently large. The Lasso model did not shrink the coefficients of the predictors in my example, despite their substantial multicollinearity, demonstrating that regularization does not always result in a significant improvement. Finally, while predicting on the test set, the Lasso regression has the highest accuracy, and categories of car name appear to be the most essential factors to predict a car price. Lasso also reduced the size of several of the features that aren't as relevant for prediction.\n",
    "\n",
    "While doing more research, I came across a suggestion to use grouped Lasso when a model has categorical features, which I think is worth a shot in this scenario."
   ]
  },
  {
   "cell_type": "code",
   "execution_count": null,
   "metadata": {
    "pycharm": {
     "name": "#%%\n"
    }
   },
   "outputs": [],
   "source": []
  }
 ],
 "metadata": {
  "kernelspec": {
   "display_name": "Python 3 (ipykernel)",
   "language": "python",
   "name": "python3"
  },
  "language_info": {
   "codemirror_mode": {
    "name": "ipython",
    "version": 3
   },
   "file_extension": ".py",
   "mimetype": "text/x-python",
   "name": "python",
   "nbconvert_exporter": "python",
   "pygments_lexer": "ipython3",
   "version": "3.8.0"
  }
 },
 "nbformat": 4,
 "nbformat_minor": 1
}